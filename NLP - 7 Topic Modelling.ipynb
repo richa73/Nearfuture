{
 "cells": [
  {
   "cell_type": "markdown",
   "id": "d97b08e3",
   "metadata": {},
   "source": [
    "# Topic Modelling"
   ]
  },
  {
   "cell_type": "code",
   "execution_count": 1,
   "id": "ad96a0b8",
   "metadata": {},
   "outputs": [],
   "source": [
    "#!pip install pyLDAvis\n",
    "import pyLDAvis"
   ]
  },
  {
   "cell_type": "code",
   "execution_count": 2,
   "id": "dcdb8d82",
   "metadata": {},
   "outputs": [],
   "source": [
    "import pyLDAvis.gensim_models"
   ]
  },
  {
   "cell_type": "code",
   "execution_count": 3,
   "id": "c528a715",
   "metadata": {},
   "outputs": [
    {
     "name": "stderr",
     "output_type": "stream",
     "text": [
      "/opt/anaconda3/lib/python3.9/site-packages/scipy/sparse/sparsetools.py:21: DeprecationWarning: `scipy.sparse.sparsetools` is deprecated!\n",
      "scipy.sparse.sparsetools is a private module for scipy.sparse, and should not be used.\n",
      "  _deprecated()\n"
     ]
    }
   ],
   "source": [
    "import spacy\n",
    "import gensim"
   ]
  },
  {
   "cell_type": "code",
   "execution_count": 4,
   "id": "b528581f",
   "metadata": {},
   "outputs": [],
   "source": [
    "nlp=spacy.load('en_core_web_sm')"
   ]
  },
  {
   "cell_type": "markdown",
   "id": "0b2040af",
   "metadata": {},
   "source": [
    "## Accessing texts"
   ]
  },
  {
   "cell_type": "code",
   "execution_count": 5,
   "id": "6023993c",
   "metadata": {},
   "outputs": [],
   "source": [
    "text_1='''chess, one of the oldest and most popular board games, played by two opponents on a checkered board with specially designed pieces of contrasting colours, commonly white and black. White moves first, after which the players alternate turns in accordance with fixed rules, each player attempting to force the opponent’s principal piece, the King, into checkmate—a position where it is unable to avoid capture.\n",
    "Chess first appeared in India about the 6th century AD and by the 10th century had spread from Asia to the Middle East and Europe. Since at least the 15th century, chess has been known as the “royal game” because of its popularity among the nobility. Rules and set design slowly evolved until both reached today’s standard in the early 19th century. Once an intellectual diversion favoured by the upper classes, chess went through an explosive growth in interest during the 20th century as professional and state-sponsored players competed for an officially recognized world championship title and increasingly lucrative tournament prizes. Organized chess tournaments, postal correspondence games, and Internet chess now attract men, women, and children around the world.\n",
    "This article provides an in-depth review of the history and the theory of the game by noted author and international grandmaster Andrew Soltis.\n",
    "Characteristics of the game\n",
    "Chess is played on a board of 64 squares arranged in eight vertical rows called files and eight horizontal rows called ranks. These squares alternate between two colours: one light, such as white, beige, or yellow; and the other dark, such as black or green. The board is set between the two opponents so that each player has a light-coloured square at the right-hand corner.\n",
    "Algebraic notation\n",
    "Individual moves and entire games can be recorded using one of several forms of notation. By far the most widely used form, algebraic (or coordinate) notation, identifies each square from the point of view of the player with the light-coloured pieces, called White. The eight ranks are numbered 1 through 8 beginning with the rank closest to White. The files are labeled a through h beginning with the file at White’s left hand. Each square has a name consisting of its letter and number, such as b3 or g8. Additionally, files a through d are referred to as the queenside, and files e through h as the kingside. See Figure 1.\n",
    "Get a Britannica Premium subscription and gain access to exclusive content.\n",
    "Subscribe Now\n",
    "Moves\n",
    "The board represents a battlefield in which two armies fight to capture each other’s king. A player’s army consists of 16 pieces that begin play on the two ranks closest to that player. There are six different types of pieces: king, rook, bishop, queen, knight, and pawn; the pieces are distinguished by appearance and by how they move. The players alternate moves, White going first.\n",
    "King\n",
    "White’s king begins the game on e1. Black’s king is opposite at e8. Each king can move one square in any direction; e.g., White’s king can move from e1 to d1, d2, e2, f2, or f1.\n",
    "Rook\n",
    "Each player has two rooks (formerly also known as castles), which begin the game on the corner squares a1 and h1 for White, a8 and h8 for Black. A rook can move vertically or horizontally to any unobstructed square along the file or rank on which it is placed.\n",
    "Bishop\n",
    "Each player has two bishops, and they begin the game at c1 and f1 for White, c8 and f8 for Black. A bishop can move to any unobstructed square on the diagonal on which it is placed. Therefore, each player has one bishop that travels only on light-coloured squares and one bishop that travels only on dark-coloured squares.\n",
    "Queen\n",
    "Each player has one queen, which combines the powers of the rook and bishop and is thus the most mobile and powerful piece. The White queen begins at d1, the Black queen at d8.\n",
    "Knight\n",
    "Each player has two knights, and they begin the game on the squares between their rooks and bishops—i.e., at b1 and g1 for White and b8 and g8 for Black. The knight has the trickiest move, an L-shape of two steps: first one square like a rook, then one square like a bishop, but always in a direction away from the starting square. A knight at e4 could move to f2, g3, g5, f6, d6, c5, c3, or d2. The knight has the unique ability to jump over any other piece to reach its destination. It always moves to a square of a different colour.\n",
    "Capturing\n",
    "The king, rook, bishop, queen, and knight capture enemy pieces in the same manner that they move. For example, a White queen on d3 can capture a Black rook at h7 by moving to h7 and removing the enemy piece from the board. Pieces can capture only enemy pieces.\n",
    "Pawns\n",
    "Each player has eight pawns, which begin the game on the second rank closest to each player; i.e., White’s pawns start at a2, b2, c2, and so on, while Black’s pawns start at a7, b7, c7, and so on. The pawns are unique in several ways. A pawn can move only forward; it can never retreat. It moves differently than it captures. A pawn moves to the square directly ahead of it but captures on the squares diagonally in front of it; e.g., a White pawn at f5 can move to f6 but can capture only on g6 or e6. An unmoved pawn has the option of moving one or two squares forward. This is the reason for another peculiar option, called en passant—that is, in passing—available to a pawn when an enemy pawn on an adjoining file advances two squares on its initial move and could have been captured had it moved only one square. The first pawn can take the advancing pawn en passant, as if it had advanced only one square. An en passant capture must be made then or not at all. Only pawns can be captured en passant. The last unique feature of the pawn occurs if it reaches the end of a file; it must then be promoted to—that is, exchanged for—a queen, rook, bishop, or knight.\n",
    "Castling\n",
    "The one exception to the rule that a player may move only one piece at a time is a compound move of king and rook called castling. A player castles by shifting the king two squares in the direction of a rook, which is then placed on the square the king has crossed. For example, White can castle kingside by moving the king from e1 to g1 and the rook from h1 to f1. Castling is permitted only once in a game and is prohibited if the king or rook has previously moved or if any of the squares between them is occupied. Also, castling is not legal if the square the king starts on, crosses, or finishes on is attacked by an enemy piece.\n",
    "Relative piece values\n",
    "Assigning the pawn a value of 1, the values of the other pieces are approximately as follows: knight 3, bishop 3, rook 5, and queen 9. The relative values of knights and bishops vary with different pawn structures. Additionally, tactical considerations may temporarily override the pieces’ usual relative values. Material concerns are secondary to winning.\n",
    "Object of the game\n",
    "When a player moves a piece to a square on which it attacks the enemy king—that is, a square from which it could capture the king if the king is not shielded or moved—the king is said to be in check. The game is won when one king is in check and cannot avoid capture on the next move; this is called checkmate. A game also can end when a player, believing the situation to be hopeless, acknowledges defeat by resigning.\n",
    "There are three possible results in chess: win, lose, or draw. There are six ways a draw can come about: (1) by mutual consent, (2) when neither player has enough pieces to deliver checkmate, (3) when one player can check the enemy king endlessly (perpetual check), (4) when a player who is not in check has no legal move (stalemate), (5) when an identical position occurs three times with the same player having the right to move, and (6) when no piece has been captured and no pawn has been moved within a period of 50 moves.\n",
    "In competitive events, a victory is scored as one point, a draw as half a point, and a loss as no points.'''"
   ]
  },
  {
   "cell_type": "code",
   "execution_count": 6,
   "id": "981dff34",
   "metadata": {},
   "outputs": [
    {
     "data": {
      "text/plain": [
       "'chess, one of the oldest and most popular board games, played by two opponents on a checkered board with specially designed pieces of contrasting colours, commonly white and black. White moves first, after which the players alternate turns in accordance with fixed rules, each player attempting to force the opponent’s principal piece, the King, into checkmate—a position where it is unable to avoid capture.\\nChess first appeared in India about the 6th century AD and by the 10th century had spread from Asia to the Middle East and Europe. Since at least the 15th century, chess has been known as the “royal game” because of its popularity among the nobility. Rules and set design slowly evolved until both reached today’s standard in the early 19th century. Once an intellectual diversion favoured by the upper classes, chess went through an explosive growth in interest during the 20th century as professional and state-sponsored players competed for an officially recognized world championship title and increasingly lucrative tournament prizes. Organized chess tournaments, postal correspondence games, and Internet chess now attract men, women, and children around the world.\\nThis article provides an in-depth review of the history and the theory of the game by noted author and international grandmaster Andrew Soltis.\\nCharacteristics of the game\\nChess is played on a board of 64 squares arranged in eight vertical rows called files and eight horizontal rows called ranks. These squares alternate between two colours: one light, such as white, beige, or yellow; and the other dark, such as black or green. The board is set between the two opponents so that each player has a light-coloured square at the right-hand corner.\\nAlgebraic notation\\nIndividual moves and entire games can be recorded using one of several forms of notation. By far the most widely used form, algebraic (or coordinate) notation, identifies each square from the point of view of the player with the light-coloured pieces, called White. The eight ranks are numbered 1 through 8 beginning with the rank closest to White. The files are labeled a through h beginning with the file at White’s left hand. Each square has a name consisting of its letter and number, such as b3 or g8. Additionally, files a through d are referred to as the queenside, and files e through h as the kingside. See Figure 1.\\nGet a Britannica Premium subscription and gain access to exclusive content.\\nSubscribe Now\\nMoves\\nThe board represents a battlefield in which two armies fight to capture each other’s king. A player’s army consists of 16 pieces that begin play on the two ranks closest to that player. There are six different types of pieces: king, rook, bishop, queen, knight, and pawn; the pieces are distinguished by appearance and by how they move. The players alternate moves, White going first.\\nKing\\nWhite’s king begins the game on e1. Black’s king is opposite at e8. Each king can move one square in any direction; e.g., White’s king can move from e1 to d1, d2, e2, f2, or f1.\\nRook\\nEach player has two rooks (formerly also known as castles), which begin the game on the corner squares a1 and h1 for White, a8 and h8 for Black. A rook can move vertically or horizontally to any unobstructed square along the file or rank on which it is placed.\\nBishop\\nEach player has two bishops, and they begin the game at c1 and f1 for White, c8 and f8 for Black. A bishop can move to any unobstructed square on the diagonal on which it is placed. Therefore, each player has one bishop that travels only on light-coloured squares and one bishop that travels only on dark-coloured squares.\\nQueen\\nEach player has one queen, which combines the powers of the rook and bishop and is thus the most mobile and powerful piece. The White queen begins at d1, the Black queen at d8.\\nKnight\\nEach player has two knights, and they begin the game on the squares between their rooks and bishops—i.e., at b1 and g1 for White and b8 and g8 for Black. The knight has the trickiest move, an L-shape of two steps: first one square like a rook, then one square like a bishop, but always in a direction away from the starting square. A knight at e4 could move to f2, g3, g5, f6, d6, c5, c3, or d2. The knight has the unique ability to jump over any other piece to reach its destination. It always moves to a square of a different colour.\\nCapturing\\nThe king, rook, bishop, queen, and knight capture enemy pieces in the same manner that they move. For example, a White queen on d3 can capture a Black rook at h7 by moving to h7 and removing the enemy piece from the board. Pieces can capture only enemy pieces.\\nPawns\\nEach player has eight pawns, which begin the game on the second rank closest to each player; i.e., White’s pawns start at a2, b2, c2, and so on, while Black’s pawns start at a7, b7, c7, and so on. The pawns are unique in several ways. A pawn can move only forward; it can never retreat. It moves differently than it captures. A pawn moves to the square directly ahead of it but captures on the squares diagonally in front of it; e.g., a White pawn at f5 can move to f6 but can capture only on g6 or e6. An unmoved pawn has the option of moving one or two squares forward. This is the reason for another peculiar option, called en passant—that is, in passing—available to a pawn when an enemy pawn on an adjoining file advances two squares on its initial move and could have been captured had it moved only one square. The first pawn can take the advancing pawn en passant, as if it had advanced only one square. An en passant capture must be made then or not at all. Only pawns can be captured en passant. The last unique feature of the pawn occurs if it reaches the end of a file; it must then be promoted to—that is, exchanged for—a queen, rook, bishop, or knight.\\nCastling\\nThe one exception to the rule that a player may move only one piece at a time is a compound move of king and rook called castling. A player castles by shifting the king two squares in the direction of a rook, which is then placed on the square the king has crossed. For example, White can castle kingside by moving the king from e1 to g1 and the rook from h1 to f1. Castling is permitted only once in a game and is prohibited if the king or rook has previously moved or if any of the squares between them is occupied. Also, castling is not legal if the square the king starts on, crosses, or finishes on is attacked by an enemy piece.\\nRelative piece values\\nAssigning the pawn a value of 1, the values of the other pieces are approximately as follows: knight 3, bishop 3, rook 5, and queen 9. The relative values of knights and bishops vary with different pawn structures. Additionally, tactical considerations may temporarily override the pieces’ usual relative values. Material concerns are secondary to winning.\\nObject of the game\\nWhen a player moves a piece to a square on which it attacks the enemy king—that is, a square from which it could capture the king if the king is not shielded or moved—the king is said to be in check. The game is won when one king is in check and cannot avoid capture on the next move; this is called checkmate. A game also can end when a player, believing the situation to be hopeless, acknowledges defeat by resigning.\\nThere are three possible results in chess: win, lose, or draw. There are six ways a draw can come about: (1) by mutual consent, (2) when neither player has enough pieces to deliver checkmate, (3) when one player can check the enemy king endlessly (perpetual check), (4) when a player who is not in check has no legal move (stalemate), (5) when an identical position occurs three times with the same player having the right to move, and (6) when no piece has been captured and no pawn has been moved within a period of 50 moves.\\nIn competitive events, a victory is scored as one point, a draw as half a point, and a loss as no points.'"
      ]
     },
     "execution_count": 6,
     "metadata": {},
     "output_type": "execute_result"
    }
   ],
   "source": [
    "text_1"
   ]
  },
  {
   "cell_type": "code",
   "execution_count": 7,
   "id": "0ff1c940",
   "metadata": {},
   "outputs": [],
   "source": [
    "text_2='''Chess computers were first able to beat strong chess players in the late 1980s. Their most famous success was the victory of Deep Blue over then World Chess Champion Garry Kasparov in 1997, but there was some controversy over whether the match conditions favored the computer.\n",
    "In 2002–2003, three human–computer matches were drawn, but, whereas Deep Blue was a specialized machine, these were chess programs running on commercially available computers.\n",
    "Chess programs running on commercially available desktop computers won decisive victories against human players in matches in 2005 and 2006. The second of these, against then world champion Vladimir Kramnik is (as of 2019) the last major human-computer match.\n",
    "Since that time, chess programs running on commercial hardware—more recently including mobile phones—have been able to defeat even the strongest human players.\n",
    "MANIAC (1956)\n",
    "In 1956 MANIAC, developed at Los Alamos Scientific Laboratory, became the first computer to defeat a human in a chess-like game. Playing with the simplified Los Alamos rules, it defeated a novice in 23 moves.[1]\n",
    "Mac Hack VI (1966–1968)\n",
    "In 1966 MIT student Richard Greenblatt wrote the chess program Mac Hack VI using MIDAS macro assembly language on a Digital Equipment Corporation PDP-6 computer with 16K of memory. Mac Hack VI evaluated 10 positions per second.\n",
    "In 1967, several MIT students and professors (organized by Seymour Papert) challenged Dr. Hubert Dreyfus to play a game of chess against Mac Hack VI. Dreyfus, a professor of philosophy at MIT, wrote the book What Computers Can’t Do, questioning the computer's ability to serve as a model for the human brain. He also asserted that no computer program could defeat even a 10-year-old child at chess. Dreyfus accepted the challenge. Herbert A. Simon, an artificial intelligence pioneer, watched the game. He said, \"it was a wonderful game—a real cliffhanger between two woodpushers with bursts of insights and fiendish plans ... great moments of drama and disaster that go in such games.\" The computer was beating Dreyfus when he found a move which could have captured the enemy queen. The only way the computer could get out of this was to keep Dreyfus in checks with its own queen until it could fork the queen and king, and then exchange them. That is what the computer did. Soon, Dreyfus was losing. Finally, the computer checkmated Dreyfus in the middle of the board.\n",
    "In the spring of 1967, Mac Hack VI played in the Boston Amateur championship, winning two games and drawing two games. Mac Hack VI beat a 1510 United States Chess Federation player. This was the first time a computer won a game in a human tournament. At the end of 1968, Mac Hack VI achieved a rating of 1529. The average rating in the USCF was near 1500.[2]\n",
    "Chess x.x (1968–1978)\n",
    "In 1968, Northwestern University students Larry Atkin, David Slate and Keith Gorlen began work on Chess (Northwestern University). On 14 April 1970 an exhibition game was played against Australian Champion Fred Flatow, the program running on a Control Data Corporation 6600 model. Flatow won easily. On 25 July 1976, Chess 4.5 scored 5–0 in the Class B (1600–1799) section of the 4th Paul Masson chess tournament in Saratoga, California. This was the first time a computer won a human tournament. Chess 4.5 was rated 1722. Chess 4.5 running on a Control Data Corporation CDC Cyber 175 supercomputer (2.1 megaflops) looked at less than 1500 positions per second. On 20 February 1977, Chess 4.5 won the 84th Minnesota Open Championship with 5 wins and 1 loss. It defeated expert Charles Fenner rated 2016. On 30 April 1978, Chess 4.6 scored 5–0 at the Twin Cities Open in Minneapolis. Chess 4.6 was rated 2040.[3] International Master Edward Lasker stated that year, \"My contention that computers cannot play like a master, I retract. They play absolutely alarmingly. I know, because I have lost games to 4.7.\"[4]\n",
    "David Levy's bet (1978)\n",
    "Main article: David Levy (chess player) § Computer chess bet\n",
    "For a long time in the 1970s and 1980s, it remained an open question whether any chess program would ever be able to defeat the expertise of top humans. In 1968, International Master David Levy made a famous bet that no chess computer would be able to beat him within ten years. He won his bet in 1978 by beating Chess 4.7 (the strongest computer at the time).\n",
    "Cray Blitz (1981)\n",
    "In 1981, Cray Blitz scored 5–0 in the Mississippi State Championship. In round 4, it defeated Joe Sentef (2262) to become the first computer to beat a master in tournament play and the first computer to gain a master rating (2258).[5]\n",
    "HiTech (1988)\n",
    "In 1988, HiTech won the Pennsylvania State Chess Championship with a score of 4½–½. HiTech defeated International Master Ed Formanek (2485).[6]\n",
    "The Harvard Cup Man versus Computer Chess Challenge was organized by Harvard University. There were six challenges from 1989 until 1995. They played in Boston and New York City. In each challenge the humans scored higher and the highest scorer was a human'''"
   ]
  },
  {
   "cell_type": "code",
   "execution_count": 8,
   "id": "24490253",
   "metadata": {},
   "outputs": [
    {
     "data": {
      "text/plain": [
       "'Chess computers were first able to beat strong chess players in the late 1980s. Their most famous success was the victory of Deep Blue over then World Chess Champion Garry Kasparov in 1997, but there was some controversy over whether the match conditions favored the computer.\\nIn 2002–2003, three human–computer matches were drawn, but, whereas Deep Blue was a specialized machine, these were chess programs running on commercially available computers.\\nChess programs running on commercially available desktop computers won decisive victories against human players in matches in 2005 and 2006. The second of these, against then world champion Vladimir Kramnik is (as of 2019) the last major human-computer match.\\nSince that time, chess programs running on commercial hardware—more recently including mobile phones—have been able to defeat even the strongest human players.\\nMANIAC (1956)\\nIn 1956 MANIAC, developed at Los Alamos Scientific Laboratory, became the first computer to defeat a human in a chess-like game. Playing with the simplified Los Alamos rules, it defeated a novice in 23 moves.[1]\\nMac Hack VI (1966–1968)\\nIn 1966 MIT student Richard Greenblatt wrote the chess program Mac Hack VI using MIDAS macro assembly language on a Digital Equipment Corporation PDP-6 computer with 16K of memory. Mac Hack VI evaluated 10 positions per second.\\nIn 1967, several MIT students and professors (organized by Seymour Papert) challenged Dr. Hubert Dreyfus to play a game of chess against Mac Hack VI. Dreyfus, a professor of philosophy at MIT, wrote the book What Computers Can’t Do, questioning the computer\\'s ability to serve as a model for the human brain. He also asserted that no computer program could defeat even a 10-year-old child at chess. Dreyfus accepted the challenge. Herbert A. Simon, an artificial intelligence pioneer, watched the game. He said, \"it was a wonderful game—a real cliffhanger between two woodpushers with bursts of insights and fiendish plans ... great moments of drama and disaster that go in such games.\" The computer was beating Dreyfus when he found a move which could have captured the enemy queen. The only way the computer could get out of this was to keep Dreyfus in checks with its own queen until it could fork the queen and king, and then exchange them. That is what the computer did. Soon, Dreyfus was losing. Finally, the computer checkmated Dreyfus in the middle of the board.\\nIn the spring of 1967, Mac Hack VI played in the Boston Amateur championship, winning two games and drawing two games. Mac Hack VI beat a 1510 United States Chess Federation player. This was the first time a computer won a game in a human tournament. At the end of 1968, Mac Hack VI achieved a rating of 1529. The average rating in the USCF was near 1500.[2]\\nChess x.x (1968–1978)\\nIn 1968, Northwestern University students Larry Atkin, David Slate and Keith Gorlen began work on Chess (Northwestern University). On 14 April 1970 an exhibition game was played against Australian Champion Fred Flatow, the program running on a Control Data Corporation 6600 model. Flatow won easily. On 25 July 1976, Chess 4.5 scored 5–0 in the Class B (1600–1799) section of the 4th Paul Masson chess tournament in Saratoga, California. This was the first time a computer won a human tournament. Chess 4.5 was rated 1722. Chess 4.5 running on a Control Data Corporation CDC Cyber 175 supercomputer (2.1 megaflops) looked at less than 1500 positions per second. On 20 February 1977, Chess 4.5 won the 84th Minnesota Open Championship with 5 wins and 1 loss. It defeated expert Charles Fenner rated 2016. On 30 April 1978, Chess 4.6 scored 5–0 at the Twin Cities Open in Minneapolis. Chess 4.6 was rated 2040.[3] International Master Edward Lasker stated that year, \"My contention that computers cannot play like a master, I retract. They play absolutely alarmingly. I know, because I have lost games to 4.7.\"[4]\\nDavid Levy\\'s bet (1978)\\nMain article: David Levy (chess player) § Computer chess bet\\nFor a long time in the 1970s and 1980s, it remained an open question whether any chess program would ever be able to defeat the expertise of top humans. In 1968, International Master David Levy made a famous bet that no chess computer would be able to beat him within ten years. He won his bet in 1978 by beating Chess 4.7 (the strongest computer at the time).\\nCray Blitz (1981)\\nIn 1981, Cray Blitz scored 5–0 in the Mississippi State Championship. In round 4, it defeated Joe Sentef (2262) to become the first computer to beat a master in tournament play and the first computer to gain a master rating (2258).[5]\\nHiTech (1988)\\nIn 1988, HiTech won the Pennsylvania State Chess Championship with a score of 4½–½. HiTech defeated International Master Ed Formanek (2485).[6]\\nThe Harvard Cup Man versus Computer Chess Challenge was organized by Harvard University. There were six challenges from 1989 until 1995. They played in Boston and New York City. In each challenge the humans scored higher and the highest scorer was a human'"
      ]
     },
     "execution_count": 8,
     "metadata": {},
     "output_type": "execute_result"
    }
   ],
   "source": [
    "text_2"
   ]
  },
  {
   "cell_type": "code",
   "execution_count": 9,
   "id": "b52c36e8",
   "metadata": {},
   "outputs": [],
   "source": [
    "text_3='''\"It's like a game of chess,\" we used to say in days gone by.\n",
    "Every move our politicians made could be analysed and interpreted, not only for its significance in the wider electoral tournament but also for the possible moves, or false moves, it might induce from opponents.\n",
    "That all seems rather quaint now, viewed from our present standpoint where the table on which the chess board so precariously sits is being shaken by a constant bombardment of violent impacts: the very survival of the UK, the war on Islamic State and our future in or out of the EU.\n",
    "No wonder the chess pieces are wobbling already and could soon be simply tossed up in the air to land who knows where.\n",
    "And now, of course, there is a new player in the game. UKIP thinks the contest has for too long been the preserve of the same exclusive club of elite players.\n",
    "\"This is an unpredictable election,\" Ed Miliband told me in what could well go down as the understatement of last week in Manchester.\n",
    "There really are so many imponderables piled one on top of another that assessing the likely outcomes next May looks less and less like a chess game and more and more like a mug's game.\n",
    "For a start, this era of coalition government means that with the two biggest parties short of a Commons majority, they both have rival sets of target seats on the go at the same time. So they are both in the position of having to fight defensive and offensive campaigns simultaneously.\n",
    "Our list of marginal seats here in the West Midlands shows that behind their ultra-close knife-edge marginals, Labour have some other narrow majorities to worry about before they start taking the Conservatives' chessmen off the board.\n",
    "These numbers underline the extend to which the Midlands has traditionally been a predominantly two-party contest.\n",
    "Liberal Democrat Lorely Burt stunned the Conservatives when she \"crept in under the radar\" in 2005 but now she has her work cut out to defend a majority of just 175 over the Conservatives.\n",
    "How will the emergence of the Green Party, now the official opposition on Solihull Council, affect the chances of the larger parties?\n",
    "Lorely Burt's party colleague John Hemming has turned Birmingham Yardley into something of a personal fiefdom, but Labour will be fighting hard to overturn his 3,002 majority and regain the seat he captured from former Education Secretary Estelle Morris in 2005.\n",
    "The Liberal Democrats' only other Midlands seat is in Cheltenham where Martin Horwood will defend a more comfortable majority of 4,920 over the Conservatives in what is still the home of the Midlands' only Liberal Democrat-controlled council.\n",
    "With confident predictions that the Liberal Democrats will lose many seats, perhaps it is to their traditional \"core\" constituencies that they may have to turn as they fight to limit the damage.\n",
    "And into this otherwise two-way political street comes the new kid on the blog, UKIP, arguably the biggest imponderable of all.\n",
    "If, as Nigel Farage says, they are not a repository simply for disillusioned Tory votes but a genuine mass party with broad appeal with their \"tanks on Labour's lawn\", how might they upset the two-party chess board?\n",
    "Take Dudley North, for example, where Labour's wafer-thin majority over the Conservatives faces the additional challenge of the UKIP candidate Bill Etheridge MEP, who has turned his borough into a local power base.\n",
    "'Politically toxic'\n",
    "On the other hand, how will the Conservatives' tiny majority over Labour in Warwickshire North fare against not just an experienced Labour candidate, former minister Mike O'Brien, but also UKIP who have made great play of opposition to high-speed rail in an area where HS2 has become, to mix my analogies, politically toxic?\n",
    "Or could the Midlands UKIP vote shrink, as it did in 2010 to just 4% after a performance in the previous summer's European elections which was impressive but not as emphatic as their clear victory in this year's EU poll?\n",
    "The evidence of the local elections on the same day was that if you simply weigh the votes, it is the Conservatives who lose the most. But if you apply those numbers to real council areas (and Parliamentary constituencies?} you see it was Labour who suffered last May, failing to win majorities in target councils like Tamworth, Walsall and Worcester.\n",
    "But in the remaining eight months before polling, perhaps the greatest imponderable of all is what politicians call \"events\" in a region which has always been particularly prone to the ups and downs of the economy.\n",
    "The Birmingham and Solihull Chamber of Commerce has just reported a continuing surge in business confidence.\n",
    "\"Try telling that to young people in my constituency\" says Ian Austin, the Labour MP for that key seat of Dudley North, where unemployment remains well above the national average and where wages continue to lag behind prices.\n",
    "Put all these chess pieces together and you can see why even those politics watchers with the longest memories say they have never known an election as difficult to predict as this.\n",
    "It helps to explain why the mood clearly detectable in Labour's ranks last week in Manchester was more uncertain than hopeful; why the Conservatives, behind Labour in the polls for so long, nevertheless closed their conference in Birmingham with more than a sneaking feeling that they could confound the sooth-sayers; and why I have it on good authority that senior Liberal Democrats are preparing to embark on their conference in Glasgow in a mood of innermost trepidation.\n",
    "As the end game draws near, a game of chess has never looked more like a game of chance.....'''"
   ]
  },
  {
   "cell_type": "code",
   "execution_count": 10,
   "id": "44bdf4bc",
   "metadata": {},
   "outputs": [
    {
     "data": {
      "text/plain": [
       "'\"It\\'s like a game of chess,\" we used to say in days gone by.\\nEvery move our politicians made could be analysed and interpreted, not only for its significance in the wider electoral tournament but also for the possible moves, or false moves, it might induce from opponents.\\nThat all seems rather quaint now, viewed from our present standpoint where the table on which the chess board so precariously sits is being shaken by a constant bombardment of violent impacts: the very survival of the UK, the war on Islamic State and our future in or out of the EU.\\nNo wonder the chess pieces are wobbling already and could soon be simply tossed up in the air to land who knows where.\\nAnd now, of course, there is a new player in the game. UKIP thinks the contest has for too long been the preserve of the same exclusive club of elite players.\\n\"This is an unpredictable election,\" Ed Miliband told me in what could well go down as the understatement of last week in Manchester.\\nThere really are so many imponderables piled one on top of another that assessing the likely outcomes next May looks less and less like a chess game and more and more like a mug\\'s game.\\nFor a start, this era of coalition government means that with the two biggest parties short of a Commons majority, they both have rival sets of target seats on the go at the same time. So they are both in the position of having to fight defensive and offensive campaigns simultaneously.\\nOur list of marginal seats here in the West Midlands shows that behind their ultra-close knife-edge marginals, Labour have some other narrow majorities to worry about before they start taking the Conservatives\\' chessmen off the board.\\nThese numbers underline the extend to which the Midlands has traditionally been a predominantly two-party contest.\\nLiberal Democrat Lorely Burt stunned the Conservatives when she \"crept in under the radar\" in 2005 but now she has her work cut out to defend a majority of just 175 over the Conservatives.\\nHow will the emergence of the Green Party, now the official opposition on Solihull Council, affect the chances of the larger parties?\\nLorely Burt\\'s party colleague John Hemming has turned Birmingham Yardley into something of a personal fiefdom, but Labour will be fighting hard to overturn his 3,002 majority and regain the seat he captured from former Education Secretary Estelle Morris in 2005.\\nThe Liberal Democrats\\' only other Midlands seat is in Cheltenham where Martin Horwood will defend a more comfortable majority of 4,920 over the Conservatives in what is still the home of the Midlands\\' only Liberal Democrat-controlled council.\\nWith confident predictions that the Liberal Democrats will lose many seats, perhaps it is to their traditional \"core\" constituencies that they may have to turn as they fight to limit the damage.\\nAnd into this otherwise two-way political street comes the new kid on the blog, UKIP, arguably the biggest imponderable of all.\\nIf, as Nigel Farage says, they are not a repository simply for disillusioned Tory votes but a genuine mass party with broad appeal with their \"tanks on Labour\\'s lawn\", how might they upset the two-party chess board?\\nTake Dudley North, for example, where Labour\\'s wafer-thin majority over the Conservatives faces the additional challenge of the UKIP candidate Bill Etheridge MEP, who has turned his borough into a local power base.\\n\\'Politically toxic\\'\\nOn the other hand, how will the Conservatives\\' tiny majority over Labour in Warwickshire North fare against not just an experienced Labour candidate, former minister Mike O\\'Brien, but also UKIP who have made great play of opposition to high-speed rail in an area where HS2 has become, to mix my analogies, politically toxic?\\nOr could the Midlands UKIP vote shrink, as it did in 2010 to just 4% after a performance in the previous summer\\'s European elections which was impressive but not as emphatic as their clear victory in this year\\'s EU poll?\\nThe evidence of the local elections on the same day was that if you simply weigh the votes, it is the Conservatives who lose the most. But if you apply those numbers to real council areas (and Parliamentary constituencies?} you see it was Labour who suffered last May, failing to win majorities in target councils like Tamworth, Walsall and Worcester.\\nBut in the remaining eight months before polling, perhaps the greatest imponderable of all is what politicians call \"events\" in a region which has always been particularly prone to the ups and downs of the economy.\\nThe Birmingham and Solihull Chamber of Commerce has just reported a continuing surge in business confidence.\\n\"Try telling that to young people in my constituency\" says Ian Austin, the Labour MP for that key seat of Dudley North, where unemployment remains well above the national average and where wages continue to lag behind prices.\\nPut all these chess pieces together and you can see why even those politics watchers with the longest memories say they have never known an election as difficult to predict as this.\\nIt helps to explain why the mood clearly detectable in Labour\\'s ranks last week in Manchester was more uncertain than hopeful; why the Conservatives, behind Labour in the polls for so long, nevertheless closed their conference in Birmingham with more than a sneaking feeling that they could confound the sooth-sayers; and why I have it on good authority that senior Liberal Democrats are preparing to embark on their conference in Glasgow in a mood of innermost trepidation.\\nAs the end game draws near, a game of chess has never looked more like a game of chance.....'"
      ]
     },
     "execution_count": 10,
     "metadata": {},
     "output_type": "execute_result"
    }
   ],
   "source": [
    "text_3"
   ]
  },
  {
   "cell_type": "code",
   "execution_count": 11,
   "id": "d69a597d",
   "metadata": {},
   "outputs": [],
   "source": [
    "# Create a list of texts\n",
    "\n",
    "texts=[text_1,text_2,text_3]"
   ]
  },
  {
   "cell_type": "code",
   "execution_count": 12,
   "id": "0fe1e841",
   "metadata": {},
   "outputs": [
    {
     "name": "stdout",
     "output_type": "stream",
     "text": [
      "['chess, one of the oldest and most popular board games, played by two opponents on a checkered board with specially designed pieces of contrasting colours, commonly white and black. White moves first, after which the players alternate turns in accordance with fixed rules, each player attempting to force the opponent’s principal piece, the King, into checkmate—a position where it is unable to avoid capture.\\nChess first appeared in India about the 6th century AD and by the 10th century had spread from Asia to the Middle East and Europe. Since at least the 15th century, chess has been known as the “royal game” because of its popularity among the nobility. Rules and set design slowly evolved until both reached today’s standard in the early 19th century. Once an intellectual diversion favoured by the upper classes, chess went through an explosive growth in interest during the 20th century as professional and state-sponsored players competed for an officially recognized world championship title and increasingly lucrative tournament prizes. Organized chess tournaments, postal correspondence games, and Internet chess now attract men, women, and children around the world.\\nThis article provides an in-depth review of the history and the theory of the game by noted author and international grandmaster Andrew Soltis.\\nCharacteristics of the game\\nChess is played on a board of 64 squares arranged in eight vertical rows called files and eight horizontal rows called ranks. These squares alternate between two colours: one light, such as white, beige, or yellow; and the other dark, such as black or green. The board is set between the two opponents so that each player has a light-coloured square at the right-hand corner.\\nAlgebraic notation\\nIndividual moves and entire games can be recorded using one of several forms of notation. By far the most widely used form, algebraic (or coordinate) notation, identifies each square from the point of view of the player with the light-coloured pieces, called White. The eight ranks are numbered 1 through 8 beginning with the rank closest to White. The files are labeled a through h beginning with the file at White’s left hand. Each square has a name consisting of its letter and number, such as b3 or g8. Additionally, files a through d are referred to as the queenside, and files e through h as the kingside. See Figure 1.\\nGet a Britannica Premium subscription and gain access to exclusive content.\\nSubscribe Now\\nMoves\\nThe board represents a battlefield in which two armies fight to capture each other’s king. A player’s army consists of 16 pieces that begin play on the two ranks closest to that player. There are six different types of pieces: king, rook, bishop, queen, knight, and pawn; the pieces are distinguished by appearance and by how they move. The players alternate moves, White going first.\\nKing\\nWhite’s king begins the game on e1. Black’s king is opposite at e8. Each king can move one square in any direction; e.g., White’s king can move from e1 to d1, d2, e2, f2, or f1.\\nRook\\nEach player has two rooks (formerly also known as castles), which begin the game on the corner squares a1 and h1 for White, a8 and h8 for Black. A rook can move vertically or horizontally to any unobstructed square along the file or rank on which it is placed.\\nBishop\\nEach player has two bishops, and they begin the game at c1 and f1 for White, c8 and f8 for Black. A bishop can move to any unobstructed square on the diagonal on which it is placed. Therefore, each player has one bishop that travels only on light-coloured squares and one bishop that travels only on dark-coloured squares.\\nQueen\\nEach player has one queen, which combines the powers of the rook and bishop and is thus the most mobile and powerful piece. The White queen begins at d1, the Black queen at d8.\\nKnight\\nEach player has two knights, and they begin the game on the squares between their rooks and bishops—i.e., at b1 and g1 for White and b8 and g8 for Black. The knight has the trickiest move, an L-shape of two steps: first one square like a rook, then one square like a bishop, but always in a direction away from the starting square. A knight at e4 could move to f2, g3, g5, f6, d6, c5, c3, or d2. The knight has the unique ability to jump over any other piece to reach its destination. It always moves to a square of a different colour.\\nCapturing\\nThe king, rook, bishop, queen, and knight capture enemy pieces in the same manner that they move. For example, a White queen on d3 can capture a Black rook at h7 by moving to h7 and removing the enemy piece from the board. Pieces can capture only enemy pieces.\\nPawns\\nEach player has eight pawns, which begin the game on the second rank closest to each player; i.e., White’s pawns start at a2, b2, c2, and so on, while Black’s pawns start at a7, b7, c7, and so on. The pawns are unique in several ways. A pawn can move only forward; it can never retreat. It moves differently than it captures. A pawn moves to the square directly ahead of it but captures on the squares diagonally in front of it; e.g., a White pawn at f5 can move to f6 but can capture only on g6 or e6. An unmoved pawn has the option of moving one or two squares forward. This is the reason for another peculiar option, called en passant—that is, in passing—available to a pawn when an enemy pawn on an adjoining file advances two squares on its initial move and could have been captured had it moved only one square. The first pawn can take the advancing pawn en passant, as if it had advanced only one square. An en passant capture must be made then or not at all. Only pawns can be captured en passant. The last unique feature of the pawn occurs if it reaches the end of a file; it must then be promoted to—that is, exchanged for—a queen, rook, bishop, or knight.\\nCastling\\nThe one exception to the rule that a player may move only one piece at a time is a compound move of king and rook called castling. A player castles by shifting the king two squares in the direction of a rook, which is then placed on the square the king has crossed. For example, White can castle kingside by moving the king from e1 to g1 and the rook from h1 to f1. Castling is permitted only once in a game and is prohibited if the king or rook has previously moved or if any of the squares between them is occupied. Also, castling is not legal if the square the king starts on, crosses, or finishes on is attacked by an enemy piece.\\nRelative piece values\\nAssigning the pawn a value of 1, the values of the other pieces are approximately as follows: knight 3, bishop 3, rook 5, and queen 9. The relative values of knights and bishops vary with different pawn structures. Additionally, tactical considerations may temporarily override the pieces’ usual relative values. Material concerns are secondary to winning.\\nObject of the game\\nWhen a player moves a piece to a square on which it attacks the enemy king—that is, a square from which it could capture the king if the king is not shielded or moved—the king is said to be in check. The game is won when one king is in check and cannot avoid capture on the next move; this is called checkmate. A game also can end when a player, believing the situation to be hopeless, acknowledges defeat by resigning.\\nThere are three possible results in chess: win, lose, or draw. There are six ways a draw can come about: (1) by mutual consent, (2) when neither player has enough pieces to deliver checkmate, (3) when one player can check the enemy king endlessly (perpetual check), (4) when a player who is not in check has no legal move (stalemate), (5) when an identical position occurs three times with the same player having the right to move, and (6) when no piece has been captured and no pawn has been moved within a period of 50 moves.\\nIn competitive events, a victory is scored as one point, a draw as half a point, and a loss as no points.', 'Chess computers were first able to beat strong chess players in the late 1980s. Their most famous success was the victory of Deep Blue over then World Chess Champion Garry Kasparov in 1997, but there was some controversy over whether the match conditions favored the computer.\\nIn 2002–2003, three human–computer matches were drawn, but, whereas Deep Blue was a specialized machine, these were chess programs running on commercially available computers.\\nChess programs running on commercially available desktop computers won decisive victories against human players in matches in 2005 and 2006. The second of these, against then world champion Vladimir Kramnik is (as of 2019) the last major human-computer match.\\nSince that time, chess programs running on commercial hardware—more recently including mobile phones—have been able to defeat even the strongest human players.\\nMANIAC (1956)\\nIn 1956 MANIAC, developed at Los Alamos Scientific Laboratory, became the first computer to defeat a human in a chess-like game. Playing with the simplified Los Alamos rules, it defeated a novice in 23 moves.[1]\\nMac Hack VI (1966–1968)\\nIn 1966 MIT student Richard Greenblatt wrote the chess program Mac Hack VI using MIDAS macro assembly language on a Digital Equipment Corporation PDP-6 computer with 16K of memory. Mac Hack VI evaluated 10 positions per second.\\nIn 1967, several MIT students and professors (organized by Seymour Papert) challenged Dr. Hubert Dreyfus to play a game of chess against Mac Hack VI. Dreyfus, a professor of philosophy at MIT, wrote the book What Computers Can’t Do, questioning the computer\\'s ability to serve as a model for the human brain. He also asserted that no computer program could defeat even a 10-year-old child at chess. Dreyfus accepted the challenge. Herbert A. Simon, an artificial intelligence pioneer, watched the game. He said, \"it was a wonderful game—a real cliffhanger between two woodpushers with bursts of insights and fiendish plans ... great moments of drama and disaster that go in such games.\" The computer was beating Dreyfus when he found a move which could have captured the enemy queen. The only way the computer could get out of this was to keep Dreyfus in checks with its own queen until it could fork the queen and king, and then exchange them. That is what the computer did. Soon, Dreyfus was losing. Finally, the computer checkmated Dreyfus in the middle of the board.\\nIn the spring of 1967, Mac Hack VI played in the Boston Amateur championship, winning two games and drawing two games. Mac Hack VI beat a 1510 United States Chess Federation player. This was the first time a computer won a game in a human tournament. At the end of 1968, Mac Hack VI achieved a rating of 1529. The average rating in the USCF was near 1500.[2]\\nChess x.x (1968–1978)\\nIn 1968, Northwestern University students Larry Atkin, David Slate and Keith Gorlen began work on Chess (Northwestern University). On 14 April 1970 an exhibition game was played against Australian Champion Fred Flatow, the program running on a Control Data Corporation 6600 model. Flatow won easily. On 25 July 1976, Chess 4.5 scored 5–0 in the Class B (1600–1799) section of the 4th Paul Masson chess tournament in Saratoga, California. This was the first time a computer won a human tournament. Chess 4.5 was rated 1722. Chess 4.5 running on a Control Data Corporation CDC Cyber 175 supercomputer (2.1 megaflops) looked at less than 1500 positions per second. On 20 February 1977, Chess 4.5 won the 84th Minnesota Open Championship with 5 wins and 1 loss. It defeated expert Charles Fenner rated 2016. On 30 April 1978, Chess 4.6 scored 5–0 at the Twin Cities Open in Minneapolis. Chess 4.6 was rated 2040.[3] International Master Edward Lasker stated that year, \"My contention that computers cannot play like a master, I retract. They play absolutely alarmingly. I know, because I have lost games to 4.7.\"[4]\\nDavid Levy\\'s bet (1978)\\nMain article: David Levy (chess player) § Computer chess bet\\nFor a long time in the 1970s and 1980s, it remained an open question whether any chess program would ever be able to defeat the expertise of top humans. In 1968, International Master David Levy made a famous bet that no chess computer would be able to beat him within ten years. He won his bet in 1978 by beating Chess 4.7 (the strongest computer at the time).\\nCray Blitz (1981)\\nIn 1981, Cray Blitz scored 5–0 in the Mississippi State Championship. In round 4, it defeated Joe Sentef (2262) to become the first computer to beat a master in tournament play and the first computer to gain a master rating (2258).[5]\\nHiTech (1988)\\nIn 1988, HiTech won the Pennsylvania State Chess Championship with a score of 4½–½. HiTech defeated International Master Ed Formanek (2485).[6]\\nThe Harvard Cup Man versus Computer Chess Challenge was organized by Harvard University. There were six challenges from 1989 until 1995. They played in Boston and New York City. In each challenge the humans scored higher and the highest scorer was a human', '\"It\\'s like a game of chess,\" we used to say in days gone by.\\nEvery move our politicians made could be analysed and interpreted, not only for its significance in the wider electoral tournament but also for the possible moves, or false moves, it might induce from opponents.\\nThat all seems rather quaint now, viewed from our present standpoint where the table on which the chess board so precariously sits is being shaken by a constant bombardment of violent impacts: the very survival of the UK, the war on Islamic State and our future in or out of the EU.\\nNo wonder the chess pieces are wobbling already and could soon be simply tossed up in the air to land who knows where.\\nAnd now, of course, there is a new player in the game. UKIP thinks the contest has for too long been the preserve of the same exclusive club of elite players.\\n\"This is an unpredictable election,\" Ed Miliband told me in what could well go down as the understatement of last week in Manchester.\\nThere really are so many imponderables piled one on top of another that assessing the likely outcomes next May looks less and less like a chess game and more and more like a mug\\'s game.\\nFor a start, this era of coalition government means that with the two biggest parties short of a Commons majority, they both have rival sets of target seats on the go at the same time. So they are both in the position of having to fight defensive and offensive campaigns simultaneously.\\nOur list of marginal seats here in the West Midlands shows that behind their ultra-close knife-edge marginals, Labour have some other narrow majorities to worry about before they start taking the Conservatives\\' chessmen off the board.\\nThese numbers underline the extend to which the Midlands has traditionally been a predominantly two-party contest.\\nLiberal Democrat Lorely Burt stunned the Conservatives when she \"crept in under the radar\" in 2005 but now she has her work cut out to defend a majority of just 175 over the Conservatives.\\nHow will the emergence of the Green Party, now the official opposition on Solihull Council, affect the chances of the larger parties?\\nLorely Burt\\'s party colleague John Hemming has turned Birmingham Yardley into something of a personal fiefdom, but Labour will be fighting hard to overturn his 3,002 majority and regain the seat he captured from former Education Secretary Estelle Morris in 2005.\\nThe Liberal Democrats\\' only other Midlands seat is in Cheltenham where Martin Horwood will defend a more comfortable majority of 4,920 over the Conservatives in what is still the home of the Midlands\\' only Liberal Democrat-controlled council.\\nWith confident predictions that the Liberal Democrats will lose many seats, perhaps it is to their traditional \"core\" constituencies that they may have to turn as they fight to limit the damage.\\nAnd into this otherwise two-way political street comes the new kid on the blog, UKIP, arguably the biggest imponderable of all.\\nIf, as Nigel Farage says, they are not a repository simply for disillusioned Tory votes but a genuine mass party with broad appeal with their \"tanks on Labour\\'s lawn\", how might they upset the two-party chess board?\\nTake Dudley North, for example, where Labour\\'s wafer-thin majority over the Conservatives faces the additional challenge of the UKIP candidate Bill Etheridge MEP, who has turned his borough into a local power base.\\n\\'Politically toxic\\'\\nOn the other hand, how will the Conservatives\\' tiny majority over Labour in Warwickshire North fare against not just an experienced Labour candidate, former minister Mike O\\'Brien, but also UKIP who have made great play of opposition to high-speed rail in an area where HS2 has become, to mix my analogies, politically toxic?\\nOr could the Midlands UKIP vote shrink, as it did in 2010 to just 4% after a performance in the previous summer\\'s European elections which was impressive but not as emphatic as their clear victory in this year\\'s EU poll?\\nThe evidence of the local elections on the same day was that if you simply weigh the votes, it is the Conservatives who lose the most. But if you apply those numbers to real council areas (and Parliamentary constituencies?} you see it was Labour who suffered last May, failing to win majorities in target councils like Tamworth, Walsall and Worcester.\\nBut in the remaining eight months before polling, perhaps the greatest imponderable of all is what politicians call \"events\" in a region which has always been particularly prone to the ups and downs of the economy.\\nThe Birmingham and Solihull Chamber of Commerce has just reported a continuing surge in business confidence.\\n\"Try telling that to young people in my constituency\" says Ian Austin, the Labour MP for that key seat of Dudley North, where unemployment remains well above the national average and where wages continue to lag behind prices.\\nPut all these chess pieces together and you can see why even those politics watchers with the longest memories say they have never known an election as difficult to predict as this.\\nIt helps to explain why the mood clearly detectable in Labour\\'s ranks last week in Manchester was more uncertain than hopeful; why the Conservatives, behind Labour in the polls for so long, nevertheless closed their conference in Birmingham with more than a sneaking feeling that they could confound the sooth-sayers; and why I have it on good authority that senior Liberal Democrats are preparing to embark on their conference in Glasgow in a mood of innermost trepidation.\\nAs the end game draws near, a game of chess has never looked more like a game of chance.....']\n"
     ]
    }
   ],
   "source": [
    "print(texts)"
   ]
  },
  {
   "cell_type": "markdown",
   "id": "4589ddb5",
   "metadata": {},
   "source": [
    "## Creating a word list"
   ]
  },
  {
   "cell_type": "code",
   "execution_count": 13,
   "id": "310f17d2",
   "metadata": {},
   "outputs": [],
   "source": [
    "words_list=[]\n",
    "for text in texts:\n",
    "    doc=nlp(text)\n",
    "    text_words=[]\n",
    "    for token in doc:\n",
    "        if token.is_stop==False and token.is_punct==False and token.like_num==False and token.text!='\\n':\n",
    "            text_words.append(token.lemma_)\n",
    "    words_list.append(text_words)"
   ]
  },
  {
   "cell_type": "code",
   "execution_count": 14,
   "id": "e6de1482",
   "metadata": {},
   "outputs": [
    {
     "name": "stdout",
     "output_type": "stream",
     "text": [
      "[['chess', 'old', 'popular', 'board', 'game', 'play', 'opponent', 'checkered', 'board', 'specially', 'design', 'piece', 'contrast', 'colour', 'commonly', 'white', 'black', 'white', 'move', 'player', 'alternate', 'turn', 'accordance', 'fix', 'rule', 'player', 'attempt', 'force', 'opponent', 'principal', 'piece', 'King', 'checkmate', 'position', 'unable', 'avoid', 'capture', 'Chess', 'appear', 'India', 'century', 'ad', 'century', 'spread', 'Asia', 'Middle', 'East', 'Europe', 'century', 'chess', 'know', 'royal', 'game', 'popularity', 'nobility', 'rule', 'set', 'design', 'slowly', 'evolve', 'reach', 'today', 'standard', 'early', 'century', 'intellectual', 'diversion', 'favour', 'upper', 'class', 'chess', 'go', 'explosive', 'growth', 'interest', 'century', 'professional', 'state', 'sponsor', 'player', 'compete', 'officially', 'recognize', 'world', 'championship', 'title', 'increasingly', 'lucrative', 'tournament', 'prize', 'organized', 'chess', 'tournament', 'postal', 'correspondence', 'game', 'internet', 'chess', 'attract', 'man', 'woman', 'child', 'world', 'article', 'provide', 'depth', 'review', 'history', 'theory', 'game', 'note', 'author', 'international', 'grandmaster', 'Andrew', 'Soltis', 'characteristic', 'game', 'Chess', 'play', 'board', 'square', 'arrange', 'vertical', 'row', 'call', 'file', 'horizontal', 'row', 'call', 'rank', 'square', 'alternate', 'colour', 'light', 'white', 'beige', 'yellow', 'dark', 'black', 'green', 'board', 'set', 'opponent', 'player', 'light', 'coloured', 'square', 'right', 'hand', 'corner', 'algebraic', 'notation', 'individual', 'move', 'entire', 'game', 'record', 'form', 'notation', 'far', 'widely', 'form', 'algebraic', 'coordinate', 'notation', 'identify', 'square', 'point', 'view', 'player', 'light', 'colour', 'piece', 'call', 'White', 'rank', 'number', 'beginning', 'rank', 'close', 'White', 'file', 'label', 'h', 'begin', 'file', 'White', 'leave', 'hand', 'square', 'consist', 'letter', 'number', 'b3', 'g8', 'additionally', 'file', 'd', 'refer', 'queenside', 'file', 'e', 'h', 'kingside', 'Figure', 'Britannica', 'Premium', 'subscription', 'gain', 'access', 'exclusive', 'content', 'Subscribe', 'move', 'board', 'represent', 'battlefield', 'army', 'fight', 'capture', 'king', 'player', 'army', 'consist', 'piece', 'begin', 'play', 'rank', 'close', 'player', 'different', 'type', 'piece', 'king', 'rook', 'bishop', 'queen', 'knight', 'pawn', 'piece', 'distinguish', 'appearance', 'player', 'alternate', 'move', 'White', 'go', 'King', 'White', 'king', 'begin', 'game', 'e1', 'black', 'king', 'opposite', 'e8', 'king', 'square', 'direction', 'e.g.', 'White', 'king', 'e1', 'd1', 'd2', 'e2', 'f2', 'f1', 'Rook', 'player', 'rook', 'know', 'castle', 'begin', 'game', 'corner', 'square', 'a1', 'h1', 'White', 'a8', 'h8', 'Black', 'rook', 'vertically', 'horizontally', 'unobstructed', 'square', 'file', 'rank', 'place', 'Bishop', 'player', 'bishop', 'begin', 'game', 'c1', 'f1', 'White', 'c8', 'f8', 'Black', 'bishop', 'unobstructed', 'square', 'diagonal', 'place', 'player', 'bishop', 'travel', 'light', 'colour', 'square', 'bishop', 'travel', 'dark', 'colour', 'square', 'Queen', 'player', 'queen', 'combine', 'power', 'rook', 'bishop', 'mobile', 'powerful', 'piece', 'White', 'queen', 'begin', 'd1', 'Black', 'queen', 'd8', 'Knight', 'player', 'knight', 'begin', 'game', 'square', 'rook', 'bishop', 'i.e.', 'b1', 'g1', 'White', 'b8', 'g8', 'Black', 'knight', 'tricky', 'l', 'shape', 'step', 'square', 'like', 'rook', 'square', 'like', 'bishop', 'direction', 'away', 'starting', 'square', 'knight', 'e4', 'f2', 'g3', 'g5', 'f6', 'd6', 'c5', 'c3', 'd2', 'knight', 'unique', 'ability', 'jump', 'piece', 'reach', 'destination', 'move', 'square', 'different', 'colour', 'Capturing', 'king', 'rook', 'bishop', 'queen', 'knight', 'capture', 'enemy', 'piece', 'manner', 'example', 'White', 'queen', 'd3', 'capture', 'Black', 'rook', 'h7', 'move', 'h7', 'remove', 'enemy', 'piece', 'board', 'piece', 'capture', 'enemy', 'piece', 'Pawns', 'player', 'pawn', 'begin', 'game', 'rank', 'close', 'player', 'i.e.', 'White', 'pawn', 'start', 'a2', 'b2', 'c2', 'Black', 'pawn', 'start', 'a7', 'b7', 'c7', 'pawn', 'unique', 'way', 'pawn', 'forward', 'retreat', 'move', 'differently', 'capture', 'pawn', 'move', 'square', 'directly', 'ahead', 'capture', 'square', 'diagonally', 'e.g.', 'white', 'pawn', 'f5', 'f6', 'capture', 'g6', 'e6', 'unmoved', 'pawn', 'option', 'move', 'square', 'forward', 'reason', 'peculiar', 'option', 'call', 'en', 'passant', 'pass', 'available', 'pawn', 'enemy', 'pawn', 'adjoining', 'file', 'advance', 'square', 'initial', 'capture', 'move', 'square', 'pawn', 'advancing', 'pawn', 'en', 'passant', 'advance', 'square', 'en', 'passant', 'capture', 'pawn', 'capture', 'en', 'passant', 'unique', 'feature', 'pawn', 'occur', 'reach', 'end', 'file', 'promote', 'exchange', 'queen', 'rook', 'bishop', 'knight', 'Castling', 'exception', 'rule', 'player', 'piece', 'time', 'compound', 'king', 'rook', 'call', 'castle', 'player', 'castle', 'shift', 'king', 'square', 'direction', 'rook', 'place', 'square', 'king', 'cross', 'example', 'White', 'castle', 'kingside', 'move', 'king', 'e1', 'g1', 'rook', 'h1', 'f1', 'castling', 'permit', 'game', 'prohibit', 'king', 'rook', 'previously', 'move', 'square', 'occupy', 'castle', 'legal', 'square', 'king', 'start', 'crosse', 'finish', 'attack', 'enemy', 'piece', 'relative', 'piece', 'value', 'assign', 'pawn', 'value', 'value', 'piece', 'approximately', 'follow', 'knight', 'bishop', 'rook', 'queen', 'relative', 'value', 'knight', 'bishop', 'vary', 'different', 'pawn', 'structure', 'additionally', 'tactical', 'consideration', 'temporarily', 'override', 'piece', 'usual', 'relative', 'value', 'material', 'concern', 'secondary', 'win', 'Object', 'game', 'player', 'move', 'piece', 'square', 'attack', 'enemy', 'king', 'square', 'capture', 'king', 'king', 'shield', 'move', 'king', 'say', 'check', 'game', 'win', 'king', 'check', 'avoid', 'capture', 'call', 'checkmate', 'game', 'end', 'player', 'believe', 'situation', 'hopeless', 'acknowledge', 'defeat', 'resign', 'possible', 'result', 'chess', 'win', 'lose', 'draw', 'way', 'draw', 'come', 'mutual', 'consent', 'player', 'piece', 'deliver', 'checkmate', 'player', 'check', 'enemy', 'king', 'endlessly', 'perpetual', 'check', 'player', 'check', 'legal', 'stalemate', 'identical', 'position', 'occur', 'time', 'player', 'have', 'right', 'piece', 'capture', 'pawn', 'move', 'period', 'move', 'competitive', 'event', 'victory', 'score', 'point', 'draw', 'half', 'point', 'loss', 'point'], ['chess', 'computer', 'able', 'beat', 'strong', 'chess', 'player', 'late', '1980', 'famous', 'success', 'victory', 'Deep', 'Blue', 'World', 'Chess', 'Champion', 'Garry', 'Kasparov', 'controversy', 'match', 'condition', 'favor', 'computer', '2002–2003', 'human', 'computer', 'match', 'draw', 'Deep', 'Blue', 'specialized', 'machine', 'chess', 'program', 'run', 'commercially', 'available', 'computer', 'Chess', 'program', 'run', 'commercially', 'available', 'desktop', 'computer', 'win', 'decisive', 'victory', 'human', 'player', 'match', 'world', 'champion', 'Vladimir', 'Kramnik', 'major', 'human', 'computer', 'match', 'time', 'chess', 'program', 'run', 'commercial', 'hardware', 'recently', 'include', 'mobile', 'phone', 'able', 'defeat', 'strong', 'human', 'player', 'MANIAC', 'MANIAC', 'develop', 'Los', 'Alamos', 'Scientific', 'Laboratory', 'computer', 'defeat', 'human', 'chess', 'like', 'game', 'play', 'simplified', 'Los', 'Alamos', 'rule', 'defeat', 'novice', 'moves.[1', 'Mac', 'Hack', 'VI', '1966–1968', 'MIT', 'student', 'Richard', 'Greenblatt', 'write', 'chess', 'program', 'Mac', 'Hack', 'VI', 'MIDAS', 'macro', 'assembly', 'language', 'Digital', 'Equipment', 'Corporation', 'PDP-6', 'computer', 'k', 'memory', 'Mac', 'Hack', 'VI', 'evaluate', 'position', 'MIT', 'student', 'professor', 'organize', 'Seymour', 'Papert', 'challenge', 'Dr.', 'Hubert', 'Dreyfus', 'play', 'game', 'chess', 'Mac', 'Hack', 'VI', 'Dreyfus', 'professor', 'philosophy', 'MIT', 'write', 'book', 'computer', 'question', 'computer', 'ability', 'serve', 'model', 'human', 'brain', 'assert', 'computer', 'program', 'defeat', 'year', 'old', 'child', 'chess', 'Dreyfus', 'accept', 'challenge', 'Herbert', 'A.', 'Simon', 'artificial', 'intelligence', 'pioneer', 'watch', 'game', 'say', 'wonderful', 'game', 'real', 'cliffhanger', 'woodpusher', 'burst', 'insight', 'fiendish', 'plan', 'great', 'moment', 'drama', 'disaster', 'game', 'computer', 'beat', 'Dreyfus', 'find', 'capture', 'enemy', 'queen', 'way', 'computer', 'Dreyfus', 'check', 'queen', 'fork', 'queen', 'king', 'exchange', 'computer', 'soon', 'Dreyfus', 'lose', 'finally', 'computer', 'checkmate', 'Dreyfus', 'middle', 'board', 'spring', 'Mac', 'Hack', 'VI', 'play', 'Boston', 'Amateur', 'championship', 'win', 'game', 'draw', 'game', 'Mac', 'Hack', 'VI', 'beat', 'United', 'States', 'Chess', 'Federation', 'player', 'time', 'computer', 'win', 'game', 'human', 'tournament', 'end', 'Mac', 'Hack', 'VI', 'achieve', 'rating', 'average', 'rating', 'uscf', 'near', '1500.[2', 'Chess', 'x.x', '1968–1978', 'Northwestern', 'University', 'student', 'Larry', 'Atkin', 'David', 'Slate', 'Keith', 'Gorlen', 'begin', 'work', 'Chess', 'Northwestern', 'University', 'April', 'exhibition', 'game', 'play', 'Australian', 'Champion', 'Fred', 'Flatow', 'program', 'run', 'Control', 'Data', 'Corporation', 'model', 'flatow', 'win', 'easily', 'July', 'Chess', 'score', '5–0', 'Class', 'B', '1600–1799', 'section', 'Paul', 'Masson', 'chess', 'tournament', 'Saratoga', 'California', 'time', 'computer', 'win', 'human', 'tournament', 'chess', 'rate', 'chess', 'run', 'Control', 'Data', 'Corporation', 'CDC', 'Cyber', 'supercomputer', 'megaflop', 'look', 'position', 'February', 'Chess', 'win', 'Minnesota', 'Open', 'Championship', 'win', 'loss', 'defeat', 'expert', 'Charles', 'Fenner', 'rate', 'April', 'Chess', 'score', '5–0', 'Twin', 'Cities', 'Open', 'Minneapolis', 'Chess', 'rate', '2040.[3', 'International', 'Master', 'Edward', 'Lasker', 'state', 'year', 'contention', 'computer', 'play', 'like', 'master', 'retract', 'play', 'absolutely', 'alarmingly', 'know', 'lose', 'game', '4.7.\"[4', 'David', 'Levy', 'bet', 'main', 'article', 'David', 'Levy', 'chess', 'player', 'Computer', 'chess', 'bet', 'long', 'time', '1970', '1980', 'remain', 'open', 'question', 'chess', 'program', 'able', 'defeat', 'expertise', 'human', 'International', 'Master', 'David', 'Levy', 'famous', 'bet', 'chess', 'computer', 'able', 'beat', 'year', 'win', 'bet', 'beat', 'Chess', 'strong', 'computer', 'time', 'Cray', 'Blitz', 'Cray', 'Blitz', 'score', '5–0', 'Mississippi', 'State', 'Championship', 'round', 'defeat', 'Joe', 'Sentef', 'computer', 'beat', 'master', 'tournament', 'play', 'computer', 'gain', 'master', 'rating', '2258).[5', 'HiTech', 'HiTech', 'win', 'Pennsylvania', 'State', 'Chess', 'Championship', 'score', '4½–½.', 'HiTech', 'defeat', 'International', 'Master', 'Ed', 'Formanek', '2485).[6', 'Harvard', 'Cup', 'Man', 'versus', 'Computer', 'Chess', 'Challenge', 'organize', 'Harvard', 'University', 'challenge', 'play', 'Boston', 'New', 'York', 'City', 'challenge', 'human', 'score', 'higher', 'high', 'scorer', 'human'], ['like', 'game', 'chess', 'day', 'go', 'politician', 'analyse', 'interpret', 'significance', 'wide', 'electoral', 'tournament', 'possible', 'move', 'false', 'move', 'induce', 'opponent', 'quaint', 'view', 'present', 'standpoint', 'table', 'chess', 'board', 'precariously', 'sit', 'shake', 'constant', 'bombardment', 'violent', 'impact', 'survival', 'UK', 'war', 'Islamic', 'State', 'future', 'EU', 'wonder', 'chess', 'piece', 'wobble', 'soon', 'simply', 'toss', 'air', 'land', 'know', 'course', 'new', 'player', 'game', 'UKIP', 'think', 'contest', 'long', 'preserve', 'exclusive', 'club', 'elite', 'player', 'unpredictable', 'election', 'Ed', 'Miliband', 'tell', 'understatement', 'week', 'Manchester', 'imponderable', 'pile', 'assess', 'likely', 'outcome', 'look', 'like', 'chess', 'game', 'like', 'mug', 'game', 'start', 'era', 'coalition', 'government', 'mean', 'big', 'party', 'short', 'Commons', 'majority', 'rival', 'set', 'target', 'seat', 'time', 'position', 'have', 'fight', 'defensive', 'offensive', 'campaign', 'simultaneously', 'list', 'marginal', 'seat', 'West', 'Midlands', 'show', 'ultra', 'close', 'knife', 'edge', 'marginal', 'Labour', 'narrow', 'majority', 'worry', 'start', 'take', 'Conservatives', 'chessman', 'board', 'number', 'underline', 'extend', 'Midlands', 'traditionally', 'predominantly', 'party', 'contest', 'Liberal', 'Democrat', 'Lorely', 'Burt', 'stun', 'Conservatives', 'creep', 'radar', 'work', 'cut', 'defend', 'majority', 'Conservatives', 'emergence', 'Green', 'Party', 'official', 'opposition', 'Solihull', 'Council', 'affect', 'chance', 'large', 'party', 'Lorely', 'Burt', 'party', 'colleague', 'John', 'Hemming', 'turn', 'Birmingham', 'Yardley', 'personal', 'fiefdom', 'labour', 'fight', 'hard', 'overturn', 'majority', 'regain', 'seat', 'capture', 'Education', 'Secretary', 'Estelle', 'Morris', 'Liberal', 'Democrats', 'Midlands', 'seat', 'Cheltenham', 'Martin', 'Horwood', 'defend', 'comfortable', 'majority', 'Conservatives', 'home', 'Midlands', 'Liberal', 'Democrat', 'control', 'council', 'confident', 'prediction', 'Liberal', 'Democrats', 'lose', 'seat', 'traditional', 'core', 'constituency', 'turn', 'fight', 'limit', 'damage', 'way', 'political', 'street', 'come', 'new', 'kid', 'blog', 'UKIP', 'arguably', 'big', 'imponderable', 'Nigel', 'Farage', 'say', 'repository', 'simply', 'disillusioned', 'tory', 'vote', 'genuine', 'mass', 'party', 'broad', 'appeal', 'tank', 'Labour', 'lawn', 'upset', 'party', 'chess', 'board', 'Dudley', 'North', 'example', 'Labour', 'wafer', 'thin', 'majority', 'Conservatives', 'face', 'additional', 'challenge', 'UKIP', 'candidate', 'Bill', 'Etheridge', 'MEP', 'turn', 'borough', 'local', 'power', 'base', 'politically', 'toxic', 'hand', 'Conservatives', 'tiny', 'majority', 'Labour', 'Warwickshire', 'North', 'fare', 'experienced', 'Labour', 'candidate', 'minister', 'Mike', \"O'Brien\", 'UKIP', 'great', 'play', 'opposition', 'high', 'speed', 'rail', 'area', 'HS2', 'mix', 'analogy', 'politically', 'toxic', 'Midlands', 'UKIP', 'vote', 'shrink', 'performance', 'previous', 'summer', 'european', 'election', 'impressive', 'emphatic', 'clear', 'victory', 'year', 'EU', 'poll', 'evidence', 'local', 'election', 'day', 'simply', 'weigh', 'vote', 'Conservatives', 'lose', 'apply', 'number', 'real', 'council', 'area', 'parliamentary', 'constituency', 'Labour', 'suffer', 'fail', 'win', 'majority', 'target', 'council', 'like', 'Tamworth', 'Walsall', 'Worcester', 'remain', 'month', 'poll', 'great', 'imponderable', 'politician', 'event', 'region', 'particularly', 'prone', 'up', 'down', 'economy', 'Birmingham', 'Solihull', 'Chamber', 'Commerce', 'report', 'continue', 'surge', 'business', 'confidence', 'try', 'tell', 'young', 'people', 'constituency', 'say', 'Ian', 'Austin', 'Labour', 'MP', 'key', 'seat', 'Dudley', 'North', 'unemployment', 'remain', 'national', 'average', 'wage', 'continue', 'lag', 'price', 'chess', 'piece', 'politic', 'watcher', 'long', 'memory', 'know', 'election', 'difficult', 'predict', 'help', 'explain', 'mood', 'clearly', 'detectable', 'Labour', 'rank', 'week', 'Manchester', 'uncertain', 'hopeful', 'Conservatives', 'Labour', 'poll', 'long', 'close', 'conference', 'Birmingham', 'sneaking', 'feeling', 'confound', 'sooth', 'sayer', 'good', 'authority', 'senior', 'Liberal', 'Democrats', 'prepare', 'embark', 'conference', 'Glasgow', 'mood', 'innermost', 'trepidation', 'end', 'game', 'draw', 'near', 'game', 'chess', 'look', 'like', 'game', 'chance']]\n"
     ]
    }
   ],
   "source": [
    "print(words_list)"
   ]
  },
  {
   "cell_type": "code",
   "execution_count": 15,
   "id": "ad24c3a3",
   "metadata": {},
   "outputs": [
    {
     "name": "stdout",
     "output_type": "stream",
     "text": [
      "3\n"
     ]
    }
   ],
   "source": [
    "print(len(words_list))"
   ]
  },
  {
   "cell_type": "code",
   "execution_count": 16,
   "id": "7fd0d7c3",
   "metadata": {},
   "outputs": [
    {
     "name": "stdout",
     "output_type": "stream",
     "text": [
      "686\n"
     ]
    }
   ],
   "source": [
    "print(len(words_list[0]))"
   ]
  },
  {
   "cell_type": "code",
   "execution_count": 17,
   "id": "dd239526",
   "metadata": {},
   "outputs": [
    {
     "name": "stdout",
     "output_type": "stream",
     "text": [
      "468\n"
     ]
    }
   ],
   "source": [
    "print(len(words_list[1]))"
   ]
  },
  {
   "cell_type": "code",
   "execution_count": 18,
   "id": "e7140e11",
   "metadata": {},
   "outputs": [
    {
     "name": "stdout",
     "output_type": "stream",
     "text": [
      "432\n"
     ]
    }
   ],
   "source": [
    "print(len(words_list[2]))"
   ]
  },
  {
   "cell_type": "markdown",
   "id": "e1d363c5",
   "metadata": {},
   "source": [
    "## Creating a corpus"
   ]
  },
  {
   "cell_type": "code",
   "execution_count": 19,
   "id": "fb696744",
   "metadata": {},
   "outputs": [],
   "source": [
    "corpus=[]\n",
    "from gensim.corpora import Dictionary"
   ]
  },
  {
   "cell_type": "code",
   "execution_count": 20,
   "id": "51777766",
   "metadata": {},
   "outputs": [
    {
     "data": {
      "text/plain": [
       "gensim.corpora.dictionary.Dictionary"
      ]
     },
     "execution_count": 20,
     "metadata": {},
     "output_type": "execute_result"
    }
   ],
   "source": [
    "dict=Dictionary(words_list)\n",
    "type(dict)"
   ]
  },
  {
   "cell_type": "code",
   "execution_count": 21,
   "id": "aa76df6f",
   "metadata": {},
   "outputs": [],
   "source": [
    "for word in words_list:\n",
    "    corpus.append(dict.doc2bow(word))"
   ]
  },
  {
   "cell_type": "code",
   "execution_count": 22,
   "id": "ad8e042d",
   "metadata": {},
   "outputs": [
    {
     "name": "stdout",
     "output_type": "stream",
     "text": [
      "[[(0, 1), (1, 1), (2, 1), (3, 6), (4, 1), (5, 1), (6, 1), (7, 2), (8, 1), (9, 1), (10, 1), (11, 1), (12, 2), (13, 1), (14, 1), (15, 1), (16, 1), (17, 1), (18, 1), (19, 1), (20, 1), (21, 1), (22, 13), (23, 1), (24, 1), (25, 1), (26, 1), (27, 1), (28, 1), (29, 1), (30, 1), (31, 1), (32, 2), (33, 1), (34, 2), (35, 1), (36, 1), (37, 2), (38, 3), (39, 1), (40, 1), (41, 1), (42, 2), (43, 1), (44, 1), (45, 1), (46, 2), (47, 1), (48, 1), (49, 1), (50, 1), (51, 2), (52, 1), (53, 1), (54, 1), (55, 1), (56, 1), (57, 1), (58, 1), (59, 8), (60, 1), (61, 1), (62, 1), (63, 12), (64, 3), (65, 6), (66, 1), (67, 1), (68, 1), (69, 1), (70, 1), (71, 1), (72, 6), (73, 14), (74, 5), (75, 1), (76, 5), (77, 1), (78, 1), (79, 5), (80, 1), (81, 3), (82, 6), (83, 1), (84, 1), (85, 3), (86, 6), (87, 1), (88, 1), (89, 1), (90, 1), (91, 1), (92, 1), (93, 1), (94, 1), (95, 1), (96, 1), (97, 2), (98, 1), (99, 1), (100, 1), (101, 2), (102, 1), (103, 1), (104, 1), (105, 1), (106, 2), (107, 2), (108, 1), (109, 1), (110, 1), (111, 2), (112, 1), (113, 1), (114, 1), (115, 2), (116, 1), (117, 1), (118, 1), (119, 3), (120, 1), (121, 3), (122, 1), (123, 1), (124, 1), (125, 3), (126, 1), (127, 2), (128, 3), (129, 1), (130, 1), (131, 1), (132, 1), (133, 1), (134, 4), (135, 2), (136, 1), (137, 7), (138, 1), (139, 1), (140, 1), (141, 2), (142, 1), (143, 1), (144, 1), (145, 1), (146, 3), (147, 2), (148, 1), (149, 2), (150, 1), (151, 1), (152, 1), (153, 1), (154, 1), (155, 8), (156, 1), (157, 1), (158, 1), (159, 1), (160, 2), (161, 2), (162, 2), (163, 1), (164, 1), (165, 1), (166, 2), (167, 1), (168, 15), (169, 2), (170, 1), (171, 1), (172, 1), (173, 2), (174, 2), (175, 2), (176, 1), (177, 1), (178, 2), (179, 1), (180, 1), (181, 1), (182, 1), (183, 1), (184, 2), (185, 1), (186, 1), (187, 1), (188, 1), (189, 1), (190, 1), (191, 1), (192, 1), (193, 1), (194, 1), (195, 19), (196, 2), (197, 9), (198, 2), (199, 1), (200, 1), (201, 1), (202, 2), (203, 1), (204, 4), (205, 2), (206, 1), (207, 1), (208, 1), (209, 1), (210, 1), (211, 1), (212, 1), (213, 16), (214, 1), (215, 1), (216, 3), (217, 1), (218, 2), (219, 1), (220, 2), (221, 1), (222, 1), (223, 3), (224, 1), (225, 2), (226, 1), (227, 1), (228, 1), (229, 4), (230, 18), (231, 1), (232, 1), (233, 1), (234, 1), (235, 20), (236, 3), (237, 3), (238, 23), (239, 4), (240, 1), (241, 1), (242, 2), (243, 1), (244, 1), (245, 1), (246, 1), (247, 1), (248, 1), (249, 1), (250, 1), (251, 1), (252, 1), (253, 1), (254, 8), (255, 1), (256, 6), (257, 3), (258, 1), (259, 1), (260, 1), (261, 1), (262, 3), (263, 1), (264, 1), (265, 1), (266, 1), (267, 1), (268, 1), (269, 2), (270, 14), (271, 2), (272, 1), (273, 3), (274, 1), (275, 1), (276, 1), (277, 2), (278, 1), (279, 1), (280, 1), (281, 1), (282, 1), (283, 1), (284, 1), (285, 1), (286, 28), (287, 1), (288, 1), (289, 3), (290, 1), (291, 1), (292, 1), (293, 1), (294, 1), (295, 1), (296, 1), (297, 1), (298, 2), (299, 1), (300, 1), (301, 2), (302, 2), (303, 1), (304, 1), (305, 1), (306, 1), (307, 3), (308, 1), (309, 2), (310, 1), (311, 1), (312, 5), (313, 1), (314, 1), (315, 1), (316, 1), (317, 1), (318, 2), (319, 4), (320, 1), (321, 3), (322, 1), (323, 2), (324, 1)], [(7, 12), (27, 1), (44, 1), (50, 2), (59, 1), (65, 1), (73, 1), (77, 1), (79, 1), (81, 1), (82, 15), (83, 1), (112, 8), (125, 2), (135, 1), (137, 1), (143, 1), (167, 1), (168, 10), (195, 1), (198, 1), (205, 2), (206, 2), (207, 1), (212, 1), (222, 1), (237, 8), (238, 5), (242, 2), (254, 3), (273, 1), (274, 1), (275, 5), (291, 1), (298, 5), (301, 4), (316, 2), (318, 1), (321, 9), (323, 1), (325, 1), (326, 1), (327, 1), (328, 1), (329, 1), (330, 2), (331, 1), (332, 1), (333, 1), (334, 1), (335, 1), (336, 1), (337, 3), (338, 1), (339, 2), (340, 1), (341, 2), (342, 1), (343, 1), (344, 1), (345, 2), (346, 2), (347, 2), (348, 1), (349, 1), (350, 1), (351, 2), (352, 3), (353, 1), (354, 1), (355, 1), (356, 1), (357, 2), (358, 2), (359, 3), (360, 2), (361, 1), (362, 1), (363, 2), (364, 4), (365, 2), (366, 1), (367, 1), (368, 7), (369, 1), (370, 1), (371, 1), (372, 1), (373, 1), (374, 1), (375, 1), (376, 1), (377, 1), (378, 1), (379, 1), (380, 1), (381, 7), (382, 2), (383, 1), (384, 3), (385, 1), (386, 3), (387, 1), (388, 1), (389, 1), (390, 1), (391, 1), (392, 1), (393, 1), (394, 1), (395, 3), (396, 2), (397, 2), (398, 1), (399, 3), (400, 7), (401, 1), (402, 1), (403, 3), (404, 1), (405, 1), (406, 1), (407, 1), (408, 2), (409, 2), (410, 1), (411, 1), (412, 1), (413, 1), (414, 1), (415, 1), (416, 1), (417, 1), (418, 1), (419, 1), (420, 1), (421, 2), (422, 1), (423, 1), (424, 1), (425, 3), (426, 7), (427, 1), (428, 1), (429, 1), (430, 4), (431, 1), (432, 1), (433, 1), (434, 1), (435, 1), (436, 1), (437, 1), (438, 1), (439, 6), (440, 4), (441, 1), (442, 1), (443, 1), (444, 4), (445, 1), (446, 1), (447, 1), (448, 2), (449, 22), (450, 1), (451, 1), (452, 1), (453, 1), (454, 1), (455, 1), (456, 1), (457, 1), (458, 1), (459, 1), (460, 1), (461, 1), (462, 1), (463, 2), (464, 1), (465, 1), (466, 1), (467, 1), (468, 1), (469, 1), (470, 1), (471, 1), (472, 1), (473, 1), (474, 11), (475, 1), (476, 1), (477, 1), (478, 1), (479, 1), (480, 1), (481, 1), (482, 1), (483, 1), (484, 1), (485, 1), (486, 1), (487, 3), (488, 4), (489, 1), (490, 1), (491, 1), (492, 2), (493, 1), (494, 1), (495, 1), (496, 1), (497, 1), (498, 2), (499, 1), (500, 1), (501, 1), (502, 1), (503, 2), (504, 7), (505, 2), (506, 3), (507, 3), (508, 1), (509, 1), (510, 1), (511, 1), (512, 1), (513, 5), (514, 1), (515, 1), (516, 1), (517, 1), (518, 1), (519, 1), (520, 1), (521, 3), (522, 3), (523, 1), (524, 1), (525, 1), (526, 1), (527, 1), (528, 1), (529, 1), (530, 1), (531, 2), (532, 1), (533, 3)], [(65, 3), (73, 1), (82, 7), (85, 2), (89, 1), (125, 1), (135, 1), (139, 1), (141, 1), (144, 1), (154, 3), (168, 7), (169, 1), (178, 1), (179, 1), (198, 2), (205, 5), (206, 2), (213, 2), (218, 2), (223, 1), (235, 2), (237, 1), (238, 2), (242, 1), (243, 1), (245, 1), (256, 1), (274, 2), (277, 1), (289, 2), (298, 1), (301, 1), (304, 3), (316, 1), (317, 1), (318, 1), (321, 1), (369, 1), (421, 1), (438, 1), (444, 1), (470, 2), (472, 1), (481, 3), (482, 2), (490, 1), (495, 1), (508, 1), (510, 2), (518, 1), (530, 1), (533, 1), (534, 1), (535, 1), (536, 3), (537, 2), (538, 1), (539, 1), (540, 1), (541, 1), (542, 8), (543, 1), (544, 2), (545, 3), (546, 2), (547, 2), (548, 1), (549, 1), (550, 1), (551, 1), (552, 1), (553, 1), (554, 1), (555, 1), (556, 1), (557, 1), (558, 1), (559, 1), (560, 9), (561, 5), (562, 2), (563, 1), (564, 1), (565, 2), (566, 1), (567, 5), (568, 1), (569, 1), (570, 1), (571, 1), (572, 3), (573, 1), (574, 1), (575, 1), (576, 2), (577, 1), (578, 1), (579, 5), (580, 1), (581, 1), (582, 1), (583, 1), (584, 1), (585, 1), (586, 1), (587, 1), (588, 1), (589, 1), (590, 1), (591, 1), (592, 2), (593, 1), (594, 1), (595, 1), (596, 1), (597, 2), (598, 1), (599, 1), (600, 1), (601, 1), (602, 1), (603, 1), (604, 2), (605, 2), (606, 1), (607, 1), (608, 1), (609, 1), (610, 1), (611, 1), (612, 1), (613, 2), (614, 1), (615, 1), (616, 1), (617, 1), (618, 3), (619, 2), (620, 2), (621, 1), (622, 1), (623, 3), (624, 1), (625, 1), (626, 1), (627, 1), (628, 2), (629, 2), (630, 1), (631, 1), (632, 1), (633, 1), (634, 1), (635, 1), (636, 1), (637, 4), (638, 1), (639, 1), (640, 1), (641, 1), (642, 1), (643, 1), (644, 1), (645, 1), (646, 1), (647, 1), (648, 1), (649, 1), (650, 1), (651, 1), (652, 1), (653, 1), (654, 1), (655, 1), (656, 1), (657, 1), (658, 1), (659, 1), (660, 1), (661, 1), (662, 1), (663, 1), (664, 3), (665, 1), (666, 1), (667, 1), (668, 1), (669, 1), (670, 1), (671, 1), (672, 1), (673, 1), (674, 1), (675, 1), (676, 1), (677, 1), (678, 1), (679, 1), (680, 2), (681, 8), (682, 2), (683, 1), (684, 1), (685, 1), (686, 1), (687, 1), (688, 2), (689, 1), (690, 1), (691, 1), (692, 2), (693, 1), (694, 1), (695, 2), (696, 1), (697, 1), (698, 1), (699, 1), (700, 6), (701, 1), (702, 1), (703, 1), (704, 1), (705, 1), (706, 1), (707, 2), (708, 2), (709, 3), (710, 1), (711, 1), (712, 1), (713, 1), (714, 1), (715, 1), (716, 1), (717, 1), (718, 1), (719, 1), (720, 1), (721, 1), (722, 1), (723, 1), (724, 1), (725, 1), (726, 1), (727, 1), (728, 1), (729, 6), (730, 1), (731, 1), (732, 1), (733, 1), (734, 1), (735, 1), (736, 3), (737, 1), (738, 1), (739, 1), (740, 1), (741, 1), (742, 1), (743, 1), (744, 1), (745, 1), (746, 1), (747, 1), (748, 1), (749, 1), (750, 1), (751, 1), (752, 2), (753, 2), (754, 1), (755, 1), (756, 1), (757, 1), (758, 1), (759, 2), (760, 1), (761, 1), (762, 1), (763, 1), (764, 1), (765, 1), (766, 1), (767, 1), (768, 1), (769, 1), (770, 1), (771, 1), (772, 1), (773, 3), (774, 1), (775, 1), (776, 1), (777, 1), (778, 2), (779, 1), (780, 1), (781, 1), (782, 1), (783, 1), (784, 1)]]\n"
     ]
    }
   ],
   "source": [
    "print(corpus)"
   ]
  },
  {
   "cell_type": "code",
   "execution_count": 23,
   "id": "c49fba47",
   "metadata": {},
   "outputs": [
    {
     "data": {
      "text/plain": [
       "3"
      ]
     },
     "execution_count": 23,
     "metadata": {},
     "output_type": "execute_result"
    }
   ],
   "source": [
    "len(corpus)"
   ]
  },
  {
   "cell_type": "code",
   "execution_count": 24,
   "id": "b8da6012",
   "metadata": {},
   "outputs": [
    {
     "data": {
      "text/plain": [
       "325"
      ]
     },
     "execution_count": 24,
     "metadata": {},
     "output_type": "execute_result"
    }
   ],
   "source": [
    "len(corpus[0])"
   ]
  },
  {
   "cell_type": "code",
   "execution_count": 25,
   "id": "1bac346d",
   "metadata": {},
   "outputs": [
    {
     "data": {
      "text/plain": [
       "249"
      ]
     },
     "execution_count": 25,
     "metadata": {},
     "output_type": "execute_result"
    }
   ],
   "source": [
    "len(corpus[1])"
   ]
  },
  {
   "cell_type": "code",
   "execution_count": 26,
   "id": "5c7290c2",
   "metadata": {},
   "outputs": [
    {
     "data": {
      "text/plain": [
       "304"
      ]
     },
     "execution_count": 26,
     "metadata": {},
     "output_type": "execute_result"
    }
   ],
   "source": [
    "len(corpus[2])"
   ]
  },
  {
   "cell_type": "markdown",
   "id": "eef2274d",
   "metadata": {},
   "source": [
    "## Creating an LDA model"
   ]
  },
  {
   "cell_type": "code",
   "execution_count": 27,
   "id": "bbf4f7cf",
   "metadata": {},
   "outputs": [],
   "source": [
    "lda=gensim.models.ldamodel.LdaModel(corpus=corpus,\n",
    "                                   num_topics=5,\n",
    "                                   id2word=dict)"
   ]
  },
  {
   "cell_type": "code",
   "execution_count": 28,
   "id": "8a1be486",
   "metadata": {},
   "outputs": [
    {
     "data": {
      "text/plain": [
       "gensim.models.ldamodel.LdaModel"
      ]
     },
     "execution_count": 28,
     "metadata": {},
     "output_type": "execute_result"
    }
   ],
   "source": [
    "type(lda)"
   ]
  },
  {
   "cell_type": "markdown",
   "id": "1807956f",
   "metadata": {},
   "source": [
    "## Displaying topics"
   ]
  },
  {
   "cell_type": "code",
   "execution_count": 29,
   "id": "e45522d6",
   "metadata": {},
   "outputs": [
    {
     "data": {
      "text/plain": [
       "[(0,\n",
       "  '0.017*\"player\" + 0.015*\"chess\" + 0.015*\"game\" + 0.014*\"computer\" + 0.013*\"square\" + 0.010*\"move\" + 0.009*\"piece\" + 0.008*\"play\" + 0.007*\"pawn\" + 0.007*\"king\"'),\n",
       " (1,\n",
       "  '0.014*\"game\" + 0.013*\"square\" + 0.012*\"computer\" + 0.011*\"chess\" + 0.010*\"player\" + 0.010*\"piece\" + 0.009*\"king\" + 0.009*\"pawn\" + 0.008*\"capture\" + 0.008*\"move\"'),\n",
       " (2,\n",
       "  '0.016*\"computer\" + 0.014*\"game\" + 0.012*\"chess\" + 0.011*\"Chess\" + 0.009*\"player\" + 0.009*\"win\" + 0.008*\"human\" + 0.007*\"defeat\" + 0.007*\"Dreyfus\" + 0.007*\"king\"'),\n",
       " (3,\n",
       "  '0.013*\"game\" + 0.013*\"chess\" + 0.011*\"player\" + 0.008*\"square\" + 0.007*\"Labour\" + 0.007*\"majority\" + 0.007*\"piece\" + 0.007*\"pawn\" + 0.007*\"capture\" + 0.006*\"Conservatives\"'),\n",
       " (4,\n",
       "  '0.020*\"square\" + 0.016*\"player\" + 0.016*\"piece\" + 0.015*\"king\" + 0.013*\"game\" + 0.012*\"move\" + 0.012*\"pawn\" + 0.011*\"rook\" + 0.010*\"capture\" + 0.009*\"chess\"')]"
      ]
     },
     "execution_count": 29,
     "metadata": {},
     "output_type": "execute_result"
    }
   ],
   "source": [
    "lda.print_topics()"
   ]
  },
  {
   "cell_type": "code",
   "execution_count": 30,
   "id": "440d5af1",
   "metadata": {},
   "outputs": [
    {
     "data": {
      "text/plain": [
       "[(0,\n",
       "  '0.017*\"player\" + 0.015*\"chess\" + 0.015*\"game\" + 0.014*\"computer\" + 0.013*\"square\" + 0.010*\"move\" + 0.009*\"piece\" + 0.008*\"play\" + 0.007*\"pawn\" + 0.007*\"king\"'),\n",
       " (1,\n",
       "  '0.014*\"game\" + 0.013*\"square\" + 0.012*\"computer\" + 0.011*\"chess\" + 0.010*\"player\" + 0.010*\"piece\" + 0.009*\"king\" + 0.009*\"pawn\" + 0.008*\"capture\" + 0.008*\"move\"')]"
      ]
     },
     "execution_count": 30,
     "metadata": {},
     "output_type": "execute_result"
    }
   ],
   "source": [
    "lda.print_topics()[:2]"
   ]
  },
  {
   "cell_type": "markdown",
   "id": "c3a56cc6",
   "metadata": {},
   "source": [
    "## Getting topics for a word"
   ]
  },
  {
   "cell_type": "code",
   "execution_count": 31,
   "id": "b5236662",
   "metadata": {},
   "outputs": [
    {
     "data": {
      "text/plain": [
       "[(0, 0.014148648),\n",
       " (1, 0.012675069),\n",
       " (2, 0.01301771),\n",
       " (3, 0.012196227),\n",
       " (4, 0.012111481)]"
      ]
     },
     "execution_count": 31,
     "metadata": {},
     "output_type": "execute_result"
    }
   ],
   "source": [
    "lda.get_term_topics('game')"
   ]
  },
  {
   "cell_type": "code",
   "execution_count": 32,
   "id": "76d6d03a",
   "metadata": {},
   "outputs": [
    {
     "ename": "IndexError",
     "evalue": "list index out of range",
     "output_type": "error",
     "traceback": [
      "\u001b[0;31m---------------------------------------------------------------------------\u001b[0m",
      "\u001b[0;31mIndexError\u001b[0m                                Traceback (most recent call last)",
      "Input \u001b[0;32mIn [32]\u001b[0m, in \u001b[0;36m<cell line: 1>\u001b[0;34m()\u001b[0m\n\u001b[0;32m----> 1\u001b[0m \u001b[43mlda\u001b[49m\u001b[38;5;241;43m.\u001b[39;49m\u001b[43mget_term_topics\u001b[49m\u001b[43m(\u001b[49m\u001b[38;5;124;43m'\u001b[39;49m\u001b[38;5;124;43mpolitics\u001b[39;49m\u001b[38;5;124;43m'\u001b[39;49m\u001b[43m)\u001b[49m\n",
      "File \u001b[0;32m/opt/anaconda3/lib/python3.9/site-packages/gensim/models/ldamodel.py:1409\u001b[0m, in \u001b[0;36mLdaModel.get_term_topics\u001b[0;34m(self, word_id, minimum_probability)\u001b[0m\n\u001b[1;32m   1407\u001b[0m \u001b[38;5;66;03m# if user enters word instead of id in vocab, change to get id\u001b[39;00m\n\u001b[1;32m   1408\u001b[0m \u001b[38;5;28;01mif\u001b[39;00m \u001b[38;5;28misinstance\u001b[39m(word_id, \u001b[38;5;28mstr\u001b[39m):\n\u001b[0;32m-> 1409\u001b[0m     word_id \u001b[38;5;241m=\u001b[39m \u001b[38;5;28;43mself\u001b[39;49m\u001b[38;5;241;43m.\u001b[39;49m\u001b[43mid2word\u001b[49m\u001b[38;5;241;43m.\u001b[39;49m\u001b[43mdoc2bow\u001b[49m\u001b[43m(\u001b[49m\u001b[43m[\u001b[49m\u001b[43mword_id\u001b[49m\u001b[43m]\u001b[49m\u001b[43m)\u001b[49m\u001b[43m[\u001b[49m\u001b[38;5;241;43m0\u001b[39;49m\u001b[43m]\u001b[49m[\u001b[38;5;241m0\u001b[39m]\n\u001b[1;32m   1411\u001b[0m values \u001b[38;5;241m=\u001b[39m []\n\u001b[1;32m   1412\u001b[0m \u001b[38;5;28;01mfor\u001b[39;00m topic_id \u001b[38;5;129;01min\u001b[39;00m \u001b[38;5;28mrange\u001b[39m(\u001b[38;5;241m0\u001b[39m, \u001b[38;5;28mself\u001b[39m\u001b[38;5;241m.\u001b[39mnum_topics):\n",
      "\u001b[0;31mIndexError\u001b[0m: list index out of range"
     ]
    }
   ],
   "source": [
    "lda.get_term_topics('politics')"
   ]
  },
  {
   "cell_type": "code",
   "execution_count": 33,
   "id": "afa2eec6",
   "metadata": {},
   "outputs": [
    {
     "data": {
      "text/plain": [
       "[]"
      ]
     },
     "execution_count": 33,
     "metadata": {},
     "output_type": "execute_result"
    }
   ],
   "source": [
    "lda.get_term_topics('famous')"
   ]
  },
  {
   "cell_type": "code",
   "execution_count": 35,
   "id": "17f838e0",
   "metadata": {},
   "outputs": [
    {
     "data": {
      "text/plain": [
       "[(0, 0.016610438), (4, 0.015160294)]"
      ]
     },
     "execution_count": 35,
     "metadata": {},
     "output_type": "execute_result"
    }
   ],
   "source": [
    "lda.get_term_topics('player')"
   ]
  },
  {
   "cell_type": "markdown",
   "id": "8c0b58db",
   "metadata": {},
   "source": [
    "## Visualisation of topics"
   ]
  },
  {
   "cell_type": "code",
   "execution_count": 36,
   "id": "77df8950",
   "metadata": {},
   "outputs": [],
   "source": [
    "pyLDAvis.enable_notebook()"
   ]
  },
  {
   "cell_type": "code",
   "execution_count": 37,
   "id": "99b1b79d",
   "metadata": {},
   "outputs": [
    {
     "name": "stderr",
     "output_type": "stream",
     "text": [
      "/opt/anaconda3/lib/python3.9/site-packages/pyLDAvis/_prepare.py:246: FutureWarning: In a future version of pandas all arguments of DataFrame.drop except for the argument 'labels' will be keyword-only.\n",
      "  default_term_info = default_term_info.sort_values(\n",
      "/opt/anaconda3/lib/python3.9/site-packages/past/builtins/misc.py:45: DeprecationWarning: the imp module is deprecated in favour of importlib; see the module's documentation for alternative uses\n",
      "  from imp import reload\n",
      "/opt/anaconda3/lib/python3.9/site-packages/past/builtins/misc.py:45: DeprecationWarning: the imp module is deprecated in favour of importlib; see the module's documentation for alternative uses\n",
      "  from imp import reload\n",
      "/opt/anaconda3/lib/python3.9/site-packages/past/builtins/misc.py:45: DeprecationWarning: the imp module is deprecated in favour of importlib; see the module's documentation for alternative uses\n",
      "  from imp import reload\n",
      "/opt/anaconda3/lib/python3.9/site-packages/past/builtins/misc.py:45: DeprecationWarning: the imp module is deprecated in favour of importlib; see the module's documentation for alternative uses\n",
      "  from imp import reload\n"
     ]
    }
   ],
   "source": [
    "plot=pyLDAvis.gensim_models.prepare(lda,\n",
    "                                    corpus=corpus,\n",
    "                                   dictionary=lda.id2word)"
   ]
  },
  {
   "cell_type": "code",
   "execution_count": 38,
   "id": "6343714b",
   "metadata": {},
   "outputs": [
    {
     "data": {
      "text/html": [
       "\n",
       "<link rel=\"stylesheet\" type=\"text/css\" href=\"https://cdn.jsdelivr.net/gh/bmabey/pyLDAvis@3.3.1/pyLDAvis/js/ldavis.v1.0.0.css\">\n",
       "\n",
       "\n",
       "<div id=\"ldavis_el582750954082403821131815\"></div>\n",
       "<script type=\"text/javascript\">\n",
       "\n",
       "var ldavis_el582750954082403821131815_data = {\"mdsDat\": {\"x\": [-0.02565497228061122, 0.02847079077911361, -0.00898698559219641, 0.004395078941208617, 0.0017760881524853844], \"y\": [0.007354159880101506, 0.0014698202365066653, -0.01507909995524965, 7.580215884983558e-05, 0.006179317679791631], \"topics\": [1, 2, 3, 4, 5], \"cluster\": [1, 1, 1, 1, 1], \"Freq\": [43.22771683381853, 29.22276918914451, 27.21287232576482, 0.2982361448833035, 0.038405506388832326]}, \"tinfo\": {\"Term\": [\"game\", \"square\", \"player\", \"chess\", \"computer\", \"piece\", \"king\", \"move\", \"pawn\", \"capture\", \"rook\", \"Chess\", \"White\", \"win\", \"bishop\", \"play\", \"queen\", \"human\", \"knight\", \"board\", \"defeat\", \"begin\", \"file\", \"enemy\", \"like\", \"Labour\", \"time\", \"rank\", \"program\", \"tournament\", \"square\", \"rook\", \"light\", \"piece\", \"move\", \"king\", \"place\", \"colour\", \"attack\", \"White\", \"en\", \"call\", \"century\", \"advance\", \"knight\", \"value\", \"pawn\", \"file\", \"g8\", \"row\", \"bishop\", \"direction\", \"point\", \"alternate\", \"deliver\", \"popularity\", \"travel\", \"e.g.\", \"i.e.\", \"capture\", \"castle\", \"rank\", \"player\", \"begin\", \"opponent\", \"enemy\", \"check\", \"game\", \"like\", \"queen\", \"board\", \"chess\", \"Black\", \"majority\", \"play\", \"Chess\", \"computer\", \"Dreyfus\", \"run\", \"program\", \"question\", \"master\", \"University\", \"Master\", \"Computer\", \"VI\", \"Mac\", \"bet\", \"Deep\", \"5\\u20130\", \"famous\", \"write\", \"Alamos\", \"Levy\", \"human\", \"beat\", \"able\", \"Hack\", \"International\", \"Boston\", \"professor\", \"defeat\", \"rate\", \"match\", \"Los\", \"Corporation\", \"strong\", \"win\", \"Chess\", \"David\", \"score\", \"time\", \"game\", \"chess\", \"play\", \"challenge\", \"queen\", \"player\", \"year\", \"king\", \"piece\", \"square\", \"capture\", \"pawn\", \"like\", \"move\", \"rook\", \"Labour\", \"election\", \"politically\", \"seat\", \"Conservatives\", \"simply\", \"party\", \"Manchester\", \"Liberal\", \"majority\", \"constituency\", \"UKIP\", \"Midlands\", \"sooth\", \"Burt\", \"council\", \"wonder\", \"local\", \"chance\", \"Birmingham\", \"imponderable\", \"candidate\", \"Solihull\", \"fail\", \"short\", \"Glasgow\", \"induce\", \"tell\", \"opposition\", \"Horwood\", \"marginal\", \"turn\", \"EU\", \"Dudley\", \"Lorely\", \"chess\", \"long\", \"game\", \"North\", \"board\", \"player\", \"lose\", \"capture\", \"pawn\", \"square\", \"bishop\", \"piece\", \"Chess\", \"like\", \"move\", \"win\", \"king\", \"White\", \"play\", \"knight\", \"rook\", \"computer\", \"file\", \"queen\", \"play\", \"computer\", \"score\", \"VI\", \"University\", \"Corporation\", \"human\", \"Alamos\", \"time\", \"Hack\", \"Blue\", \"program\", \"Mac\", \"rating\", \"PDP-6\", \"able\", \"Champion\", \"David\", \"bet\", \"Championship\", \"Dreyfus\", \"party\", \"run\", \"find\", \"player\", \"win\", \"MIT\", \"Los\", \"long\", \"chess\", \"look\", \"Conservatives\", \"move\", \"enemy\", \"Labour\", \"game\", \"White\", \"begin\", \"square\", \"defeat\", \"piece\", \"pawn\", \"Chess\", \"like\", \"rook\", \"king\", \"tournament\", \"board\", \"queen\", \"capture\", \"computer\", \"program\", \"win\", \"reach\", \"relative\", \"student\", \"4.7.\\\"[4\", \"expertise\", \"score\", \"beat\", \"rate\", \"master\", \"match\", \"Champion\", \"CDC\", \"HiTech\", \"dark\", \"run\", \"Black\", \"Cup\", \"1980\", \"f6\", \"promote\", \"State\", \"California\", \"July\", \"Data\", \"Harvard\", \"David\", \"strong\", \"tournament\", \"defeat\", \"rank\", \"knight\", \"Chess\", \"challenge\", \"play\", \"queen\", \"human\", \"know\", \"bishop\", \"capture\", \"square\", \"pawn\", \"game\", \"chess\", \"draw\", \"Mac\", \"move\", \"piece\", \"king\", \"player\", \"White\", \"file\", \"board\", \"rook\", \"time\", \"begin\", \"enemy\"], \"Freq\": [21.0, 19.0, 19.0, 17.0, 11.0, 16.0, 16.0, 12.0, 13.0, 12.0, 10.0, 9.0, 9.0, 7.0, 9.0, 6.0, 7.0, 6.0, 6.0, 7.0, 6.0, 6.0, 6.0, 5.0, 7.0, 6.0, 5.0, 5.0, 4.0, 4.0, 13.556285782257714, 7.422779467297103, 2.3190358661617574, 11.011608438109958, 8.033600717520548, 10.601959644447131, 2.0912692775531045, 3.2780159387370285, 1.4491904004389258, 5.879180712183965, 2.4591761608657263, 3.610299084909473, 2.785094670160947, 1.4581499293977143, 4.290912971419217, 2.5243270115442593, 8.020400864173553, 4.147491868585794, 1.2790067593600003, 1.2923663990611811, 5.522038895744414, 1.7400681294026479, 2.2262504364256155, 1.6765724482611313, 0.9037962349458805, 0.8907171392182078, 1.200969402600473, 1.2481536265966466, 1.2706238819541555, 7.150382841958339, 2.571130685422172, 3.0528860644125344, 11.080101074327834, 3.6454124954019655, 2.1498993764149597, 3.0922924761132946, 2.6647504840627394, 8.990015109705379, 3.4783698294392402, 3.768082123665788, 3.5319236387411888, 6.4200350137347275, 2.404828048967944, 2.680057410212186, 2.4764439417352726, 2.486071987428657, 7.567171743289764, 3.1000833303101576, 2.1107097322233503, 2.5838767552090425, 1.177594536366384, 1.4229696439479154, 1.2806048360694184, 1.5006477889773242, 1.1664642986698384, 2.59535155190586, 2.6018365558771586, 1.7223112375028582, 1.084638604258826, 1.4600076322176958, 1.1943583622772134, 1.0441825432256193, 0.9420437306776732, 1.450068944938001, 3.698086895564824, 2.257034540613274, 1.6259389592037512, 2.4591660368656294, 1.469787798616902, 1.0585883035949681, 0.9633542678059992, 3.273983433974602, 1.2618653802879403, 1.5391880026911349, 0.9805689447982995, 1.2339017142517599, 1.3367682768460056, 4.045104102547338, 4.975957273423502, 1.4895136664940545, 1.8244838261131546, 2.285842824029702, 6.638979651319556, 5.579954848771846, 2.667301902642928, 1.7188044621092333, 2.548466276755142, 4.118852893716143, 1.5809305755944465, 3.0827621454151735, 2.426504476661943, 2.532048736416462, 2.160210979589727, 2.1427695821277832, 1.6729603098005525, 1.7133721274294023, 1.6491257404090367, 3.172054043971239, 1.6351971003307555, 0.993745583372095, 2.3842426878556338, 2.6300955918015236, 1.2856575326441348, 1.9714617949624609, 0.9434546528581624, 1.782168413886761, 3.108965160287016, 1.22159993684702, 1.7235136993616127, 1.9044884159010644, 0.634299979687473, 0.9060714092932833, 1.2297802282941135, 0.6368577715718609, 0.9164863708613823, 0.9557067508212711, 1.1947178742478397, 1.1485036742015335, 0.9639197011310916, 0.8785289342453554, 0.6201095028549005, 0.5771245106662487, 0.6121250138509576, 0.6122697177350411, 0.8837443034008635, 0.9037746370886919, 0.6108444849656274, 0.8608442103229966, 1.4696916309550596, 0.868025542525872, 0.9108089541648909, 0.8828683424581166, 5.490296084430704, 1.167065363954723, 5.7188860159830535, 1.0878074290451076, 2.239164784427337, 4.574855902553484, 1.3784148326066117, 2.8976789995844143, 2.97494363849078, 3.6412847259558383, 2.221000427422527, 3.0899341877986393, 2.194487058261334, 1.8251549134075387, 2.4097159978499767, 1.9052187685604525, 2.4158395848557257, 1.8583132055124143, 1.660343419742593, 1.6451593598170517, 1.8686987238596544, 1.7997157696080488, 1.57352762106506, 1.5846836875950445, 0.038772678151703606, 0.06464383307806816, 0.019660653990118047, 0.023371735538748977, 0.011217297667711247, 0.011528587453633537, 0.03296013669964554, 0.00825313793110366, 0.02461279786577761, 0.021509917384066577, 0.008291018617733709, 0.01999369875354357, 0.021049758972095028, 0.010258958640756143, 0.005074583629069227, 0.012935348393863622, 0.007318962413382052, 0.012176127872147691, 0.012920413735064324, 0.009896021432541197, 0.020951138022646077, 0.017349739929742317, 0.014418889405044929, 0.004881596031988429, 0.08243327266625983, 0.0322754088595787, 0.009875009829028785, 0.00750800296989529, 0.012220366884312564, 0.07170809298565144, 0.00975581779398791, 0.022029248365707493, 0.04639648832706823, 0.022009242244348592, 0.02396398545176805, 0.07079294784209485, 0.032949998179705536, 0.024235723336199447, 0.059766489145307224, 0.02101631264898208, 0.043414939696196836, 0.03417220854232694, 0.027592148312225777, 0.022277724701347593, 0.028566188499161826, 0.03409954731393228, 0.017355487587309867, 0.021456149969281576, 0.022166143714677927, 0.025630627736599635, 0.007178822539649868, 0.00256553088631087, 0.0045164820676789974, 0.0013843851303015093, 0.001318203086199848, 0.001280861654425622, 0.0006626468248760138, 0.0006420498418239213, 0.0020033338772138098, 0.002189282016621146, 0.0012492098904144599, 0.0012665662205783973, 0.001504763461598439, 0.000884590242703629, 0.0006265447561612215, 0.0012678815990400344, 0.0009808803425086444, 0.0017766250311308926, 0.002263785619967387, 0.0006307828984736267, 0.00094069606232981, 0.0009832650421132188, 0.0006578574999877429, 0.0012074943111585875, 0.0006204115470354872, 0.0006144340560284461, 0.0009298368508476779, 0.0009102690539407175, 0.0014162012634379585, 0.0012500959804013394, 0.002420486975196708, 0.0029914551122416783, 0.0025901190325280966, 0.003374983165791288, 0.0045799342228310036, 0.0017844783014611513, 0.0032647770000511643, 0.003738917682143826, 0.0031409362806396894, 0.0017585282598943722, 0.0040824063244201065, 0.005170476325943374, 0.00792125873290109, 0.005487037362907748, 0.008371142276143582, 0.006768706964621343, 0.002142977716556139, 0.0021182738453982444, 0.004681090301115505, 0.005971011544922025, 0.005517452600255082, 0.006086830086644988, 0.003462556312804442, 0.0027647232913543636, 0.00288948215202305, 0.003761653945670804, 0.0022347600746465313, 0.0023490122168968483, 0.0022352286472004123], \"Total\": [21.0, 19.0, 19.0, 17.0, 11.0, 16.0, 16.0, 12.0, 13.0, 12.0, 10.0, 9.0, 9.0, 7.0, 9.0, 6.0, 7.0, 6.0, 6.0, 7.0, 6.0, 6.0, 6.0, 5.0, 7.0, 6.0, 5.0, 5.0, 4.0, 4.0, 19.797306992508222, 10.972931774010627, 3.473155756394753, 16.57743305381166, 12.207766421428111, 16.140178374632217, 3.2075129154657303, 5.0637027764735425, 2.2388209550571645, 9.143737413467838, 3.831815682934457, 5.665411103011055, 4.376460628455404, 2.337678306519772, 6.980472505291944, 4.1103398531055735, 13.17777333069735, 6.822907126364203, 2.1274658316757304, 2.1635385841830486, 9.247965305238466, 2.920034081216125, 3.7458353080861198, 2.8238690447088173, 1.526772981719914, 1.5172365665318512, 2.0503540957877604, 2.1333730372908457, 2.1731060564072076, 12.239073925195024, 4.405137246974044, 5.28814437470553, 19.862329973350366, 6.492586067035545, 3.7560093553346285, 5.655016254544512, 4.887016659254262, 21.427044867126224, 7.000676642232057, 7.927137149412795, 7.335352505795823, 17.56876274688755, 4.4351351401618615, 6.672609442023054, 6.846126719272548, 9.688688401648548, 11.544358621678095, 4.961768421693625, 3.446503987474661, 4.276509374437432, 1.964708859861906, 2.397893165330245, 2.208133516038497, 2.5907510960562252, 2.0183386377350443, 4.507023082131376, 4.533110555826244, 3.041964573459727, 1.9159897652038962, 2.5813830435622154, 2.128086815458774, 1.8615839997839032, 1.6930725588165352, 2.6092017089779698, 6.6709421240261175, 4.099082285919164, 2.971043307810065, 4.52113648853957, 2.711839267117534, 1.9661133990209192, 1.7954126553174041, 6.118558230228905, 2.3583339966488324, 2.8780638376870273, 1.836118052586234, 2.310852479008156, 2.5049564032743588, 7.784935043298529, 9.688688401648548, 2.826319650935634, 3.6790017147945275, 5.09247083663969, 21.427044867126224, 17.56876274688755, 6.846126719272548, 3.644389766651647, 7.927137149412795, 19.862329973350366, 3.4164168047022208, 16.140178374632217, 16.57743305381166, 19.797306992508222, 12.239073925195024, 13.17777333069735, 7.000676642232057, 12.207766421428111, 10.972931774010627, 6.293855699758265, 3.269584770618456, 2.026798309907457, 4.93346239545936, 5.521001965431884, 2.70242212191559, 4.144288518587549, 2.005901379982167, 3.8223841512227517, 6.672609442023054, 2.655717858332118, 3.7803041083968223, 4.182954230888868, 1.4090471900198573, 2.016089789735423, 2.771316437653545, 1.4390081375043295, 2.078977426429851, 2.174310858637774, 2.7215482166496634, 2.6199552212034756, 2.216477762652396, 2.020906958307345, 1.4316840296300268, 1.344079077117497, 1.4291689371568757, 1.4307425935572573, 2.066974773037594, 2.1246544100542284, 1.441322814338188, 2.031696348198976, 3.5187555555784855, 2.0508045717939263, 2.1933480736809545, 2.1240767878654667, 17.56876274688755, 2.9904385345123123, 21.427044867126224, 2.7488027054532265, 7.335352505795823, 19.862329973350366, 3.944595843203819, 12.239073925195024, 13.17777333069735, 19.797306992508222, 9.247965305238466, 16.57743305381166, 9.688688401648548, 7.000676642232057, 12.207766421428111, 7.784935043298529, 16.140178374632217, 9.143737413467838, 6.846126719272548, 6.980472505291944, 10.972931774010627, 11.544358621678095, 6.822907126364203, 7.927137149412795, 6.846126719272548, 11.544358621678095, 3.6790017147945275, 4.507023082131376, 2.208133516038497, 2.310852479008156, 6.6709421240261175, 1.6930725588165352, 5.09247083663969, 4.52113648853957, 1.76537078795515, 4.276509374437432, 4.533110555826244, 2.306142598979945, 1.1648701746493375, 2.971043307810065, 1.6961266466375107, 2.826319650935634, 3.041964573459727, 2.339857430639917, 4.961768421693625, 4.144288518587549, 3.446503987474661, 1.1704077626641078, 19.862329973350366, 7.784935043298529, 2.406991417207641, 1.836118052586234, 2.9904385345123123, 17.56876274688755, 2.3958266802741304, 5.521001965431884, 12.207766421428111, 5.655016254544512, 6.293855699758265, 21.427044867126224, 9.143737413467838, 6.492586067035545, 19.797306992508222, 6.118558230228905, 16.57743305381166, 13.17777333069735, 9.688688401648548, 7.000676642232057, 10.972931774010627, 16.140178374632217, 4.882835269217237, 7.335352505795823, 7.927137149412795, 12.239073925195024, 11.544358621678095, 4.276509374437432, 7.784935043298529, 2.4422276865154267, 2.3341470833687006, 2.3081064986524527, 1.2105270447538574, 1.1753070462853479, 3.6790017147945275, 4.099082285919164, 2.3583339966488324, 2.397893165330245, 2.8780638376870273, 1.6961266466375107, 1.2045854320672185, 2.4438664877076266, 1.8975824155946526, 3.446503987474661, 4.4351351401618615, 1.2418399009857803, 1.8528629355271793, 1.9372729321246163, 1.2975254697158345, 2.391136461056453, 1.232632875380155, 1.2224985631047853, 1.8511317224753638, 1.815868127378071, 2.826319650935634, 2.5049564032743588, 4.882835269217237, 6.118558230228905, 5.28814437470553, 6.980472505291944, 9.688688401648548, 3.644389766651647, 6.846126719272548, 7.927137149412795, 6.6709421240261175, 3.6162360783022187, 9.247965305238466, 12.239073925195024, 19.797306992508222, 13.17777333069735, 21.427044867126224, 17.56876274688755, 4.596434670382153, 4.533110555826244, 12.207766421428111, 16.57743305381166, 16.140178374632217, 19.862329973350366, 9.143737413467838, 6.822907126364203, 7.335352505795823, 10.972931774010627, 5.09247083663969, 6.492586067035545, 5.655016254544512], \"Category\": [\"Default\", \"Default\", \"Default\", \"Default\", \"Default\", \"Default\", \"Default\", \"Default\", \"Default\", \"Default\", \"Default\", \"Default\", \"Default\", \"Default\", \"Default\", \"Default\", \"Default\", \"Default\", \"Default\", \"Default\", \"Default\", \"Default\", \"Default\", \"Default\", \"Default\", \"Default\", \"Default\", \"Default\", \"Default\", \"Default\", \"Topic1\", \"Topic1\", \"Topic1\", \"Topic1\", \"Topic1\", \"Topic1\", \"Topic1\", \"Topic1\", \"Topic1\", \"Topic1\", \"Topic1\", \"Topic1\", \"Topic1\", \"Topic1\", \"Topic1\", \"Topic1\", \"Topic1\", \"Topic1\", \"Topic1\", \"Topic1\", \"Topic1\", \"Topic1\", \"Topic1\", \"Topic1\", \"Topic1\", \"Topic1\", \"Topic1\", \"Topic1\", \"Topic1\", \"Topic1\", \"Topic1\", \"Topic1\", \"Topic1\", \"Topic1\", \"Topic1\", \"Topic1\", \"Topic1\", \"Topic1\", \"Topic1\", \"Topic1\", \"Topic1\", \"Topic1\", \"Topic1\", \"Topic1\", \"Topic1\", \"Topic1\", \"Topic2\", \"Topic2\", \"Topic2\", \"Topic2\", \"Topic2\", \"Topic2\", \"Topic2\", \"Topic2\", \"Topic2\", \"Topic2\", \"Topic2\", \"Topic2\", \"Topic2\", \"Topic2\", \"Topic2\", \"Topic2\", \"Topic2\", \"Topic2\", \"Topic2\", \"Topic2\", \"Topic2\", \"Topic2\", \"Topic2\", \"Topic2\", \"Topic2\", \"Topic2\", \"Topic2\", \"Topic2\", \"Topic2\", \"Topic2\", \"Topic2\", \"Topic2\", \"Topic2\", \"Topic2\", \"Topic2\", \"Topic2\", \"Topic2\", \"Topic2\", \"Topic2\", \"Topic2\", \"Topic2\", \"Topic2\", \"Topic2\", \"Topic2\", \"Topic2\", \"Topic2\", \"Topic2\", \"Topic2\", \"Topic2\", \"Topic2\", \"Topic2\", \"Topic3\", \"Topic3\", \"Topic3\", \"Topic3\", \"Topic3\", \"Topic3\", \"Topic3\", \"Topic3\", \"Topic3\", \"Topic3\", \"Topic3\", \"Topic3\", \"Topic3\", \"Topic3\", \"Topic3\", \"Topic3\", \"Topic3\", \"Topic3\", \"Topic3\", \"Topic3\", \"Topic3\", \"Topic3\", \"Topic3\", \"Topic3\", \"Topic3\", \"Topic3\", \"Topic3\", \"Topic3\", \"Topic3\", \"Topic3\", \"Topic3\", \"Topic3\", \"Topic3\", \"Topic3\", \"Topic3\", \"Topic3\", \"Topic3\", \"Topic3\", \"Topic3\", \"Topic3\", \"Topic3\", \"Topic3\", \"Topic3\", \"Topic3\", \"Topic3\", \"Topic3\", \"Topic3\", \"Topic3\", \"Topic3\", \"Topic3\", \"Topic3\", \"Topic3\", \"Topic3\", \"Topic3\", \"Topic3\", \"Topic3\", \"Topic3\", \"Topic3\", \"Topic3\", \"Topic4\", \"Topic4\", \"Topic4\", \"Topic4\", \"Topic4\", \"Topic4\", \"Topic4\", \"Topic4\", \"Topic4\", \"Topic4\", \"Topic4\", \"Topic4\", \"Topic4\", \"Topic4\", \"Topic4\", \"Topic4\", \"Topic4\", \"Topic4\", \"Topic4\", \"Topic4\", \"Topic4\", \"Topic4\", \"Topic4\", \"Topic4\", \"Topic4\", \"Topic4\", \"Topic4\", \"Topic4\", \"Topic4\", \"Topic4\", \"Topic4\", \"Topic4\", \"Topic4\", \"Topic4\", \"Topic4\", \"Topic4\", \"Topic4\", \"Topic4\", \"Topic4\", \"Topic4\", \"Topic4\", \"Topic4\", \"Topic4\", \"Topic4\", \"Topic4\", \"Topic4\", \"Topic4\", \"Topic4\", \"Topic4\", \"Topic4\", \"Topic5\", \"Topic5\", \"Topic5\", \"Topic5\", \"Topic5\", \"Topic5\", \"Topic5\", \"Topic5\", \"Topic5\", \"Topic5\", \"Topic5\", \"Topic5\", \"Topic5\", \"Topic5\", \"Topic5\", \"Topic5\", \"Topic5\", \"Topic5\", \"Topic5\", \"Topic5\", \"Topic5\", \"Topic5\", \"Topic5\", \"Topic5\", \"Topic5\", \"Topic5\", \"Topic5\", \"Topic5\", \"Topic5\", \"Topic5\", \"Topic5\", \"Topic5\", \"Topic5\", \"Topic5\", \"Topic5\", \"Topic5\", \"Topic5\", \"Topic5\", \"Topic5\", \"Topic5\", \"Topic5\", \"Topic5\", \"Topic5\", \"Topic5\", \"Topic5\", \"Topic5\", \"Topic5\", \"Topic5\", \"Topic5\", \"Topic5\", \"Topic5\", \"Topic5\", \"Topic5\", \"Topic5\", \"Topic5\", \"Topic5\", \"Topic5\", \"Topic5\", \"Topic5\"], \"logprob\": [30.0, 29.0, 28.0, 27.0, 26.0, 25.0, 24.0, 23.0, 22.0, 21.0, 20.0, 19.0, 18.0, 17.0, 16.0, 15.0, 14.0, 13.0, 12.0, 11.0, 10.0, 9.0, 8.0, 7.0, 6.0, 5.0, 4.0, 3.0, 2.0, 1.0, -3.9234, -4.5257, -5.6891, -4.1313, -4.4466, -4.1692, -5.7925, -5.343, -6.1593, -4.7589, -5.6305, -5.2465, -5.506, -6.1531, -5.0738, -5.6043, -4.4483, -5.1078, -6.2842, -6.2738, -4.8215, -5.9764, -5.73, -6.0135, -6.6314, -6.646, -6.3472, -6.3086, -6.2908, -4.5631, -5.5859, -5.4142, -4.1251, -5.2368, -5.7649, -5.4014, -5.5502, -4.3342, -5.2837, -5.2037, -5.2684, -4.6709, -5.6528, -5.5444, -5.6235, -5.6196, -4.1149, -5.0073, -5.3917, -5.1895, -5.9753, -5.786, -5.8914, -5.7329, -5.9848, -5.185, -5.1825, -5.5951, -6.0575, -5.7603, -5.9611, -6.0955, -6.1985, -5.7671, -4.8309, -5.3247, -5.6527, -5.2389, -5.7536, -6.0818, -6.1761, -4.9527, -5.9062, -5.7075, -6.1584, -5.9286, -5.8485, -4.7412, -4.5341, -5.7403, -5.5375, -5.312, -4.2458, -4.4196, -5.1577, -5.5971, -5.2033, -4.7232, -5.6807, -5.0129, -5.2523, -5.2097, -5.3685, -5.3766, -5.6242, -5.6003, -5.6385, -4.9131, -5.5757, -6.0738, -5.1986, -5.1005, -5.8162, -5.3887, -6.1257, -5.4897, -4.9332, -5.8673, -5.5231, -5.4233, -6.5227, -6.1661, -5.8607, -6.5187, -6.1547, -6.1128, -5.8896, -5.929, -6.1042, -6.197, -6.5453, -6.6172, -6.5583, -6.5581, -6.1911, -6.1687, -6.5604, -6.2173, -5.6824, -6.209, -6.1609, -6.1921, -4.3645, -5.913, -4.3237, -5.9833, -5.2614, -4.5469, -5.7466, -5.0036, -4.9773, -4.7752, -5.2695, -4.9393, -5.2815, -5.4658, -5.188, -5.4229, -5.1854, -5.4478, -5.5605, -5.5697, -5.4422, -5.4799, -5.6142, -5.6071, -4.804, -4.2928, -5.4831, -5.3102, -6.0442, -6.0169, -4.9664, -6.3511, -5.2584, -5.3932, -6.3465, -5.4663, -5.4148, -6.1335, -6.8374, -5.9017, -6.4712, -5.9622, -5.9029, -6.1696, -5.4195, -5.6081, -5.7931, -6.8762, -4.0497, -4.9874, -6.1717, -6.4457, -5.9586, -4.1891, -6.1838, -5.3693, -4.6245, -5.3702, -5.2851, -4.2019, -4.9667, -5.2739, -4.3712, -5.4164, -4.6909, -4.9303, -5.1442, -5.3581, -5.1095, -4.9324, -5.6078, -5.3957, -5.3631, -5.2179, -4.4409, -5.4698, -4.9043, -6.0867, -6.1357, -6.1645, -6.8235, -6.8551, -5.7172, -5.6284, -6.1895, -6.1757, -6.0034, -6.5346, -6.8795, -6.1747, -6.4313, -5.8373, -5.595, -6.8728, -6.4731, -6.4289, -6.8308, -6.2235, -6.8894, -6.8991, -6.4847, -6.506, -6.064, -6.1888, -5.528, -5.3162, -5.4603, -5.1956, -4.8903, -5.8329, -5.2288, -5.0932, -5.2675, -5.8475, -5.0053, -4.769, -4.3425, -4.7096, -4.2872, -4.4997, -5.6498, -5.6614, -4.8685, -4.6251, -4.7041, -4.6059, -5.17, -5.3951, -5.3509, -5.0871, -5.6079, -5.558, -5.6077], \"loglift\": [30.0, 29.0, 28.0, 27.0, 26.0, 25.0, 24.0, 23.0, 22.0, 21.0, 20.0, 19.0, 18.0, 17.0, 16.0, 15.0, 14.0, 13.0, 12.0, 11.0, 10.0, 9.0, 8.0, 7.0, 6.0, 5.0, 4.0, 3.0, 2.0, 1.0, 0.46, 0.4478, 0.4348, 0.4296, 0.4202, 0.4184, 0.411, 0.4038, 0.4037, 0.397, 0.3952, 0.3881, 0.3867, 0.3667, 0.3521, 0.3512, 0.3421, 0.3409, 0.3298, 0.3234, 0.323, 0.321, 0.3184, 0.3173, 0.3144, 0.3061, 0.3038, 0.3026, 0.302, 0.3012, 0.3003, 0.2893, 0.255, 0.2615, 0.2808, 0.2351, 0.2322, -0.0299, 0.1392, 0.095, 0.1078, -0.168, 0.2266, -0.0735, -0.1782, -0.5216, 0.8078, 0.7599, 0.7399, 0.7264, 0.7184, 0.7084, 0.6854, 0.6842, 0.6819, 0.6783, 0.675, 0.6614, 0.6612, 0.6603, 0.6526, 0.652, 0.644, 0.6428, 0.6403, 0.6335, 0.6274, 0.6213, 0.6177, 0.6111, 0.6077, 0.6049, 0.6049, 0.6044, 0.6029, 0.6028, 0.6022, 0.5755, 0.5639, 0.5897, 0.5289, 0.4292, 0.0585, 0.0833, 0.2876, 0.4787, 0.0954, -0.343, 0.4596, -0.4253, -0.6914, -0.8263, -0.5042, -0.5862, -0.2012, -0.7334, -0.665, 0.6163, 0.6086, 0.5887, 0.5743, 0.5599, 0.5586, 0.5585, 0.5472, 0.5384, 0.5378, 0.5249, 0.516, 0.5147, 0.5033, 0.5017, 0.489, 0.4863, 0.4824, 0.4795, 0.4782, 0.4768, 0.4688, 0.4684, 0.4648, 0.4561, 0.4536, 0.4527, 0.4518, 0.4467, 0.443, 0.4428, 0.4284, 0.4417, 0.4226, 0.4236, 0.1383, 0.3606, -0.0194, 0.3745, 0.1149, -0.1668, 0.2501, -0.1392, -0.1868, -0.3917, -0.125, -0.3784, -0.1835, -0.0429, -0.3211, -0.1061, -0.5978, -0.2919, -0.1152, -0.1438, -0.4687, -0.5571, -0.1655, -0.3084, 0.6413, 0.63, 0.5833, 0.5532, 0.5326, 0.5145, 0.5048, 0.4913, 0.4828, 0.467, 0.4541, 0.4496, 0.4428, 0.3999, 0.3789, 0.3783, 0.3694, 0.3678, 0.3536, 0.3493, 0.3477, 0.3391, 0.3385, 0.3354, 0.3304, 0.3294, 0.3189, 0.3156, 0.315, 0.3138, 0.3114, 0.2911, 0.2424, 0.2662, 0.2443, 0.1024, 0.1892, 0.2245, 0.0122, 0.1413, -0.13, -0.1398, -0.0461, 0.0649, -0.1359, -0.3447, 0.1755, -0.0194, -0.0644, -0.3536, 0.4819, 0.446, 0.4125, 0.3893, 0.3856, 0.3681, 0.3544, 0.3524, 0.3491, 0.3298, 0.3215, 0.3187, 0.3085, 0.306, 0.3033, 0.3007, 0.2971, 0.2943, 0.2844, 0.2796, 0.2791, 0.2788, 0.2777, 0.2737, 0.2704, 0.269, 0.2684, 0.2664, 0.266, 0.2619, 0.2552, 0.2414, 0.2432, 0.2302, 0.2077, 0.2429, 0.2165, 0.2055, 0.2037, 0.236, 0.1393, 0.0953, 0.041, 0.0808, 0.0171, 0.0032, 0.1939, 0.1962, -0.0016, -0.0642, -0.1164, -0.2257, -0.0141, 0.0536, 0.0253, -0.1136, 0.1333, -0.0597, 0.0288]}, \"token.table\": {\"Topic\": [2, 2, 1, 2, 3, 2, 1, 2, 3, 1, 2, 3, 2, 1, 2, 1, 3, 2, 2, 1, 2, 1, 2, 3, 1, 2, 3, 2, 1, 2, 3, 1, 2, 3, 2, 1, 2, 1, 2, 3, 2, 1, 2, 3, 1, 3, 1, 3, 3, 1, 2, 3, 2, 1, 2, 3, 3, 1, 2, 3, 2, 1, 2, 3, 1, 2, 3, 1, 2, 3, 1, 3, 2, 1, 2, 3, 1, 2, 3, 1, 3, 1, 2, 1, 2, 3, 1, 3, 2, 1, 3, 1, 2, 3, 1, 2, 3, 2, 1, 2, 3, 1, 2, 3, 1, 2, 3, 1, 1, 2, 3, 1, 1, 2, 3, 1, 2, 3, 1, 2, 3, 1, 2, 3, 1, 2, 3, 1, 2, 3, 1, 3, 1, 2, 3, 1, 2, 3, 1, 2, 3, 1, 2, 3, 1, 3, 1, 2, 3, 1, 2, 3, 1, 2, 3, 1, 2, 3, 1, 3, 1, 2, 3, 1, 1, 2, 3, 1, 1, 2, 3, 1, 2, 3, 1, 1, 2, 3, 1, 2, 3, 1, 2, 3, 1, 3, 1, 2, 1, 2, 3, 2, 1, 1, 2, 3, 1, 2, 3, 1, 1, 3, 1, 3, 1, 2, 3, 1, 2, 3, 1, 2, 3, 1, 2, 3, 1, 2, 3, 1, 3, 1, 2, 3, 1, 2, 3, 1, 2, 3, 1, 2, 3, 1, 3, 1, 2, 1, 2, 3, 1, 2, 3, 1, 2, 3, 1, 3, 1, 2, 3, 1, 2, 3, 1, 2, 3, 1, 2, 3, 1, 2, 3, 1, 2, 3, 1, 2, 3, 1, 3, 1, 2, 1, 2, 3, 1, 1, 2, 3, 2, 1, 2, 3, 1, 2, 1, 2, 3, 1, 2, 3, 1, 2, 1, 2, 3, 1, 1, 2, 3, 1, 2, 3, 1, 2, 3, 3, 1, 2, 3, 3, 1, 2, 3, 1, 2, 3, 1, 2, 3, 1, 3, 1, 2, 3, 1, 2, 3, 1, 1, 2, 3, 1, 2, 3, 1, 2, 3, 3, 2, 1, 2, 3], \"Freq\": [0.5397053288863369, 0.826086459062412, 0.38738923403635445, 0.38738923403635445, 0.38738923403635445, 0.5906421404047822, 0.36743791415573035, 0.36743791415573035, 0.36743791415573035, 0.4509445454974365, 0.22547227274871826, 0.22547227274871826, 0.5664532385053861, 0.5086176618795121, 0.5086176618795121, 0.49600965447636775, 0.49600965447636775, 0.8301611271222794, 0.8112715634747216, 0.5895786154780669, 0.5895786154780669, 0.4273764661492707, 0.4273764661492707, 0.4273764661492707, 0.20642628982264477, 0.5160657245566119, 0.20642628982264477, 0.4954569968110942, 0.3622530860380791, 0.18112654301903955, 0.5433796290571187, 0.4327407348950338, 0.4327407348950338, 0.4327407348950338, 0.8052567800456353, 0.540210071416627, 0.540210071416627, 0.3538170212519864, 0.3538170212519864, 0.3538170212519864, 0.5219234560439219, 0.20154104645993637, 0.604623139379809, 0.20154104645993637, 0.4559239876239819, 0.4559239876239819, 0.48761350240469636, 0.48761350240469636, 0.699707343198597, 0.22118332470936367, 0.44236664941872733, 0.22118332470936367, 0.550700783235784, 0.4091876561301067, 0.4091876561301067, 0.4091876561301067, 0.6938070986263891, 0.3687534184365282, 0.3687534184365282, 0.3687534184365282, 0.817996871473039, 0.3177702342423923, 0.15888511712119616, 0.4766553513635885, 0.3832589855200203, 0.3832589855200203, 0.3832589855200203, 0.5232336470839057, 0.26161682354195287, 0.5232336470839057, 0.4707927725178537, 0.4707927725178537, 0.5446272904901003, 0.4154564045600559, 0.4154564045600559, 0.4154564045600559, 0.22059907599534184, 0.6617972279860256, 0.22059907599534184, 0.498528995482764, 0.498528995482764, 0.3859884500376171, 0.7719769000752342, 0.4781309786349264, 0.2390654893174632, 0.4781309786349264, 0.36379475253576576, 0.36379475253576576, 0.8584647643682966, 0.49482733279199154, 0.49482733279199154, 0.41821117961547855, 0.41821117961547855, 0.41821117961547855, 0.2645289826759697, 0.2645289826759697, 0.5290579653519394, 0.45287116595832055, 0.22187594378307443, 0.6656278313492233, 0.22187594378307443, 0.6561868225964782, 0.10936447043274636, 0.21872894086549272, 0.33658210143597433, 0.6731642028719487, 0.33658210143597433, 0.42777485559540224, 0.7082481405246006, 0.3541240702623003, 0.3541240702623003, 0.4466636770310499, 0.24395704458900938, 0.48791408917801876, 0.24395704458900938, 0.6160873277150661, 0.30804366385753307, 0.15402183192876653, 0.3287349263448742, 0.6574698526897484, 0.3287349263448742, 0.6487913613388372, 0.10813189355647287, 0.21626378711294575, 0.5453044004142285, 0.2726522002071142, 0.2726522002071142, 0.7060387899960301, 0.17650969749900752, 0.17650969749900752, 0.45116626787328035, 0.45116626787328035, 0.5719386975504732, 0.16341105644299234, 0.24511658466448852, 0.6810230491821216, 0.2270076830607072, 0.2270076830607072, 0.6854854309654325, 0.22849514365514415, 0.22849514365514415, 0.2743943606555479, 0.5487887213110958, 0.2743943606555479, 0.4599158377135224, 0.4599158377135224, 0.613871449428983, 0.20462381647632766, 0.20462381647632766, 0.3415152271358977, 0.3415152271358977, 0.28459602261324807, 0.592451834641301, 0.19748394488043367, 0.19748394488043367, 0.1732447912909066, 0.6929791651636265, 0.1732447912909066, 0.37654602384156666, 0.37654602384156666, 0.3608393420589289, 0.3608393420589289, 0.3608393420589289, 0.5269863336537224, 0.16343719588374145, 0.49031158765122435, 0.16343719588374145, 0.6549762223808134, 0.6849235126622383, 0.34246175633111914, 0.34246175633111914, 0.4351198577643915, 0.21755992888219575, 0.21755992888219575, 0.4687412761482598, 0.30584923473657044, 0.30584923473657044, 0.6116984694731409, 0.5219457733594254, 0.2609728866797127, 0.2609728866797127, 0.5305024539211758, 0.17683415130705857, 0.17683415130705857, 0.5161895277725763, 0.6984781413385034, 0.46990564141266933, 0.46990564141266933, 0.5862603617369658, 0.14656509043424146, 0.2931301808684829, 0.8544030823272891, 0.47004280168031415, 0.4200299227360078, 0.3266899399057838, 0.28001994849067186, 0.29980772772661063, 0.5996154554532213, 0.14990386386330531, 0.4601708218757157, 0.38168591276176483, 0.38168591276176483, 0.6989377435906893, 0.6989377435906893, 0.6815290230799976, 0.18587155174909029, 0.12391436783272686, 0.5730271119852665, 0.14325677799631661, 0.28651355599263323, 0.5530612373457037, 0.27653061867285184, 0.27653061867285184, 0.5758451795078906, 0.2879225897539453, 0.2879225897539453, 0.42853000550008213, 0.28568667033338807, 0.28568667033338807, 0.48100570371139717, 0.48100570371139717, 0.3343991151996984, 0.3343991151996984, 0.3343991151996984, 0.4173924634170866, 0.4173924634170866, 0.4173924634170866, 0.25351139628738123, 0.25351139628738123, 0.25351139628738123, 0.4495992199253365, 0.14986640664177883, 0.4495992199253365, 0.4921995360608209, 0.4921995360608209, 0.41703275794702765, 0.41703275794702765, 0.3474558093206354, 0.6949116186412708, 0.3474558093206354, 0.6553205331613913, 0.16383013329034782, 0.16383013329034782, 0.5324800368666326, 0.2662400184333163, 0.2662400184333163, 0.47066477977210264, 0.47066477977210264, 0.24129594151442396, 0.24129594151442396, 0.4825918830288479, 0.6070828355625275, 0.15177070889063188, 0.22765606333594782, 0.6635526721352534, 0.12064594038822787, 0.18096891058234182, 0.6235360706909578, 0.3117680353454789, 0.3117680353454789, 0.2921359890067175, 0.4382039835100762, 0.2921359890067175, 0.55381216678803, 0.20138624246837453, 0.2517328030854682, 0.5339263036158072, 0.2669631518079036, 0.2669631518079036, 0.49338900427919724, 0.49338900427919724, 0.659092999772496, 0.5569750202207491, 0.23383556832061156, 0.7015067049618348, 0.23383556832061156, 0.7706977807680382, 0.5045957859195487, 0.3784468394396615, 0.25229789295977434, 0.5089812645677626, 0.5673067502373278, 0.18910225007910927, 0.18910225007910927, 0.4240281492871618, 0.4240281492871618, 0.43362452974170845, 0.43362452974170845, 0.43362452974170845, 0.40946223217492106, 0.40946223217492106, 0.40946223217492106, 0.42842201638671995, 0.42842201638671995, 0.6379334296581967, 0.1822666941880562, 0.1822666941880562, 0.4622057620375648, 0.2901490912629771, 0.5802981825259542, 0.2901490912629771, 0.2718128659681394, 0.5436257319362788, 0.2718128659681394, 0.4053947997740394, 0.2026973998870197, 0.4053947997740394, 0.7440038439885496, 0.3700384154978565, 0.3700384154978565, 0.3700384154978565, 0.7096994388001351, 0.7071668891783078, 0.15153576196678023, 0.20204768262237366, 0.3992085445849868, 0.3992085445849868, 0.3992085445849868, 0.43325557143218146, 0.43325557143218146, 0.43325557143218146, 0.48379884120715005, 0.48379884120715005, 0.392736662448855, 0.392736662448855, 0.1963683312244275, 0.409598089988528, 0.409598089988528, 0.204799044994264, 0.4877206342330801, 0.28419138078933687, 0.28419138078933687, 0.28419138078933687, 0.729866655121801, 0.24328888504060034, 0.24328888504060034, 0.2569064467302975, 0.513812893460595, 0.2569064467302975, 0.6949231028910643, 0.5371769418495659, 0.2927043323939982, 0.5854086647879964, 0.2927043323939982], \"Term\": [\"1980\", \"4.7.\\\"[4\", \"5\\u20130\", \"5\\u20130\", \"5\\u20130\", \"Alamos\", \"Birmingham\", \"Birmingham\", \"Birmingham\", \"Black\", \"Black\", \"Black\", \"Blue\", \"Boston\", \"Boston\", \"Burt\", \"Burt\", \"CDC\", \"California\", \"Champion\", \"Champion\", \"Championship\", \"Championship\", \"Championship\", \"Chess\", \"Chess\", \"Chess\", \"Computer\", \"Conservatives\", \"Conservatives\", \"Conservatives\", \"Corporation\", \"Corporation\", \"Corporation\", \"Cup\", \"Data\", \"Data\", \"David\", \"David\", \"David\", \"Deep\", \"Dreyfus\", \"Dreyfus\", \"Dreyfus\", \"Dudley\", \"Dudley\", \"EU\", \"EU\", \"Glasgow\", \"Hack\", \"Hack\", \"Hack\", \"Harvard\", \"HiTech\", \"HiTech\", \"HiTech\", \"Horwood\", \"International\", \"International\", \"International\", \"July\", \"Labour\", \"Labour\", \"Labour\", \"Levy\", \"Levy\", \"Levy\", \"Liberal\", \"Liberal\", \"Liberal\", \"Lorely\", \"Lorely\", \"Los\", \"MIT\", \"MIT\", \"MIT\", \"Mac\", \"Mac\", \"Mac\", \"Manchester\", \"Manchester\", \"Master\", \"Master\", \"Midlands\", \"Midlands\", \"Midlands\", \"North\", \"North\", \"PDP-6\", \"Solihull\", \"Solihull\", \"State\", \"State\", \"State\", \"UKIP\", \"UKIP\", \"UKIP\", \"University\", \"VI\", \"VI\", \"VI\", \"White\", \"White\", \"White\", \"able\", \"able\", \"able\", \"advance\", \"alternate\", \"alternate\", \"alternate\", \"attack\", \"beat\", \"beat\", \"beat\", \"begin\", \"begin\", \"begin\", \"bet\", \"bet\", \"bet\", \"bishop\", \"bishop\", \"bishop\", \"board\", \"board\", \"board\", \"call\", \"call\", \"call\", \"candidate\", \"candidate\", \"capture\", \"capture\", \"capture\", \"castle\", \"castle\", \"castle\", \"century\", \"century\", \"century\", \"challenge\", \"challenge\", \"challenge\", \"chance\", \"chance\", \"check\", \"check\", \"check\", \"chess\", \"chess\", \"chess\", \"colour\", \"colour\", \"colour\", \"computer\", \"computer\", \"computer\", \"constituency\", \"constituency\", \"council\", \"council\", \"council\", \"dark\", \"defeat\", \"defeat\", \"defeat\", \"deliver\", \"direction\", \"direction\", \"direction\", \"draw\", \"draw\", \"draw\", \"e.g.\", \"election\", \"election\", \"election\", \"en\", \"en\", \"en\", \"enemy\", \"enemy\", \"enemy\", \"f6\", \"fail\", \"famous\", \"famous\", \"file\", \"file\", \"file\", \"find\", \"g8\", \"game\", \"game\", \"game\", \"human\", \"human\", \"human\", \"i.e.\", \"imponderable\", \"imponderable\", \"induce\", \"induce\", \"king\", \"king\", \"king\", \"knight\", \"knight\", \"knight\", \"know\", \"know\", \"know\", \"light\", \"light\", \"light\", \"like\", \"like\", \"like\", \"local\", \"local\", \"long\", \"long\", \"long\", \"look\", \"look\", \"look\", \"lose\", \"lose\", \"lose\", \"majority\", \"majority\", \"majority\", \"marginal\", \"marginal\", \"master\", \"master\", \"match\", \"match\", \"match\", \"move\", \"move\", \"move\", \"opponent\", \"opponent\", \"opponent\", \"opposition\", \"opposition\", \"party\", \"party\", \"party\", \"pawn\", \"pawn\", \"pawn\", \"piece\", \"piece\", \"piece\", \"place\", \"place\", \"place\", \"play\", \"play\", \"play\", \"player\", \"player\", \"player\", \"point\", \"point\", \"point\", \"politically\", \"politically\", \"popularity\", \"professor\", \"program\", \"program\", \"program\", \"promote\", \"queen\", \"queen\", \"queen\", \"question\", \"rank\", \"rank\", \"rank\", \"rate\", \"rate\", \"rating\", \"rating\", \"rating\", \"reach\", \"reach\", \"reach\", \"relative\", \"relative\", \"rook\", \"rook\", \"rook\", \"row\", \"run\", \"run\", \"run\", \"score\", \"score\", \"score\", \"seat\", \"seat\", \"seat\", \"short\", \"simply\", \"simply\", \"simply\", \"sooth\", \"square\", \"square\", \"square\", \"strong\", \"strong\", \"strong\", \"student\", \"student\", \"student\", \"tell\", \"tell\", \"time\", \"time\", \"time\", \"tournament\", \"tournament\", \"tournament\", \"travel\", \"turn\", \"turn\", \"turn\", \"value\", \"value\", \"value\", \"win\", \"win\", \"win\", \"wonder\", \"write\", \"year\", \"year\", \"year\"]}, \"R\": 30, \"lambda.step\": 0.01, \"plot.opts\": {\"xlab\": \"PC1\", \"ylab\": \"PC2\"}, \"topic.order\": [5, 3, 4, 1, 2]};\n",
       "\n",
       "function LDAvis_load_lib(url, callback){\n",
       "  var s = document.createElement('script');\n",
       "  s.src = url;\n",
       "  s.async = true;\n",
       "  s.onreadystatechange = s.onload = callback;\n",
       "  s.onerror = function(){console.warn(\"failed to load library \" + url);};\n",
       "  document.getElementsByTagName(\"head\")[0].appendChild(s);\n",
       "}\n",
       "\n",
       "if(typeof(LDAvis) !== \"undefined\"){\n",
       "   // already loaded: just create the visualization\n",
       "   !function(LDAvis){\n",
       "       new LDAvis(\"#\" + \"ldavis_el582750954082403821131815\", ldavis_el582750954082403821131815_data);\n",
       "   }(LDAvis);\n",
       "}else if(typeof define === \"function\" && define.amd){\n",
       "   // require.js is available: use it to load d3/LDAvis\n",
       "   require.config({paths: {d3: \"https://d3js.org/d3.v5\"}});\n",
       "   require([\"d3\"], function(d3){\n",
       "      window.d3 = d3;\n",
       "      LDAvis_load_lib(\"https://cdn.jsdelivr.net/gh/bmabey/pyLDAvis@3.3.1/pyLDAvis/js/ldavis.v3.0.0.js\", function(){\n",
       "        new LDAvis(\"#\" + \"ldavis_el582750954082403821131815\", ldavis_el582750954082403821131815_data);\n",
       "      });\n",
       "    });\n",
       "}else{\n",
       "    // require.js not available: dynamically load d3 & LDAvis\n",
       "    LDAvis_load_lib(\"https://d3js.org/d3.v5.js\", function(){\n",
       "         LDAvis_load_lib(\"https://cdn.jsdelivr.net/gh/bmabey/pyLDAvis@3.3.1/pyLDAvis/js/ldavis.v3.0.0.js\", function(){\n",
       "                 new LDAvis(\"#\" + \"ldavis_el582750954082403821131815\", ldavis_el582750954082403821131815_data);\n",
       "            })\n",
       "         });\n",
       "}\n",
       "</script>"
      ],
      "text/plain": [
       "PreparedData(topic_coordinates=              x         y  topics  cluster       Freq\n",
       "topic                                                \n",
       "4     -0.025655  0.007354       1        1  43.227717\n",
       "2      0.028471  0.001470       2        1  29.222769\n",
       "3     -0.008987 -0.015079       3        1  27.212872\n",
       "0      0.004395  0.000076       4        1   0.298236\n",
       "1      0.001776  0.006179       5        1   0.038406, topic_info=         Term       Freq      Total Category  logprob  loglift\n",
       "168      game  21.000000  21.000000  Default  30.0000  30.0000\n",
       "286    square  19.000000  19.000000  Default  29.0000  29.0000\n",
       "238    player  19.000000  19.000000  Default  28.0000  28.0000\n",
       "82      chess  17.000000  17.000000  Default  27.0000  27.0000\n",
       "449  computer  11.000000  11.000000  Default  26.0000  26.0000\n",
       "..        ...        ...        ...      ...      ...      ...\n",
       "65      board   0.002889   7.335353   Topic5  -5.3509   0.0253\n",
       "270      rook   0.003762  10.972932   Topic5  -5.0871  -0.1136\n",
       "298      time   0.002235   5.092471   Topic5  -5.6079   0.1333\n",
       "59      begin   0.002349   6.492586   Topic5  -5.5580  -0.0597\n",
       "137     enemy   0.002235   5.655016   Topic5  -5.6077   0.0288\n",
       "\n",
       "[295 rows x 6 columns], token_table=      Topic      Freq     Term\n",
       "term                          \n",
       "330       2  0.539705     1980\n",
       "335       2  0.826086  4.7.\"[4\n",
       "337       1  0.387389      5–0\n",
       "337       2  0.387389      5–0\n",
       "337       3  0.387389      5–0\n",
       "...     ...       ...      ...\n",
       "782       3  0.694923   wonder\n",
       "531       2  0.537177    write\n",
       "533       1  0.292704     year\n",
       "533       2  0.585409     year\n",
       "533       3  0.292704     year\n",
       "\n",
       "[344 rows x 3 columns], R=30, lambda_step=0.01, plot_opts={'xlab': 'PC1', 'ylab': 'PC2'}, topic_order=[5, 3, 4, 1, 2])"
      ]
     },
     "execution_count": 38,
     "metadata": {},
     "output_type": "execute_result"
    }
   ],
   "source": [
    "plot"
   ]
  },
  {
   "cell_type": "code",
   "execution_count": null,
   "id": "cd8a99e7",
   "metadata": {},
   "outputs": [],
   "source": []
  }
 ],
 "metadata": {
  "kernelspec": {
   "display_name": "Python 3 (ipykernel)",
   "language": "python",
   "name": "python3"
  },
  "language_info": {
   "codemirror_mode": {
    "name": "ipython",
    "version": 3
   },
   "file_extension": ".py",
   "mimetype": "text/x-python",
   "name": "python",
   "nbconvert_exporter": "python",
   "pygments_lexer": "ipython3",
   "version": "3.9.12"
  }
 },
 "nbformat": 4,
 "nbformat_minor": 5
}
